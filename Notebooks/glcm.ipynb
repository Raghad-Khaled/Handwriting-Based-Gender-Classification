{
 "cells": [
  {
   "cell_type": "code",
   "execution_count": 1,
   "metadata": {},
   "outputs": [
    {
     "name": "stderr",
     "output_type": "stream",
     "text": [
      "/home/mohamed/.local/lib/python3.8/site-packages/skimage/io/manage_plugins.py:23: UserWarning: Your installed pillow version is < 8.1.2. Several security issues (CVE-2021-27921, CVE-2021-25290, CVE-2021-25291, CVE-2021-25293, and more) have been fixed in pillow 8.1.2 or higher. We recommend to upgrade this library.\n",
      "  from .collection import imread_collection_wrapper\n"
     ]
    }
   ],
   "source": [
    "import glob\n",
    "import skimage.io as io\n",
    "import numpy as np\n",
    "#import commonfunctions as cf\n",
    "import sklearn\n",
    "from skimage.feature import hog\n",
    "from sklearn.model_selection import train_test_split, cross_val_score\n",
    "from sklearn import svm\n",
    "import matplotlib.pyplot as plt\n",
    "from skimage.transform import rescale, resize, downscale_local_mean\n",
    "from sklearn import metrics\n",
    "from sklearn.preprocessing import MinMaxScaler\n",
    "\n",
    "import pickle\n",
    "import cv2\n",
    "import random\n",
    "import os\n",
    "\n",
    "from PIL import Image, ImageEnhance\n",
    "\n",
    "\n",
    "\n",
    "from PIL import Image, ImageEnhance\n",
    "import cv2\n",
    "import matplotlib.pyplot as plt\n",
    "import numpy as np\n",
    "\n",
    "import argparse\n",
    "import os\n",
    "from datetime import datetime\n",
    "from sklearn.preprocessing import MinMaxScaler\n",
    "from sklearn.metrics import classification_report, confusion_matrix\n",
    "from sklearn.svm import SVC\n",
    "from sklearn.model_selection import cross_val_score, cross_val_predict, RandomizedSearchCV\n",
    "from sklearn.metrics import *\n",
    "\n",
    "import fast_glcm\n",
    "from skimage import data\n",
    "\n",
    "from sklearn.decomposition import PCA\n",
    "\n"
   ]
  },
  {
   "cell_type": "code",
   "execution_count": 2,
   "metadata": {},
   "outputs": [],
   "source": [
    "'''\n",
    "if you want to load the data again to work with them\n",
    "'''\n",
    "\n",
    "male_data=np.load('male_data.npy',allow_pickle=True)\n",
    "female_data=np.load('female_data.npy',allow_pickle=True)"
   ]
  },
  {
   "cell_type": "code",
   "execution_count": 3,
   "metadata": {},
   "outputs": [
    {
     "name": "stdout",
     "output_type": "stream",
     "text": [
      "(133,)\n"
     ]
    },
    {
     "data": {
      "text/plain": [
       "<matplotlib.image.AxesImage at 0x7fe774679760>"
      ]
     },
     "execution_count": 3,
     "metadata": {},
     "output_type": "execute_result"
    },
    {
     "data": {
      "image/png": "[encoded data removed]",
      "text/plain": [
       "<Figure size 432x288 with 1 Axes>"
      ]
     },
     "metadata": {
      "needs_background": "light"
     },
     "output_type": "display_data"
    }
   ],
   "source": [
    "print(female_data.shape)\n",
    "plt.imshow(male_data[0],cmap='gray')"
   ]
  },
  {
   "cell_type": "code",
   "execution_count": 11,
   "metadata": {},
   "outputs": [
    {
     "name": "stdout",
     "output_type": "stream",
     "text": [
      "(3652, 2565)\n",
      "(2984, 2096)\n",
      "(3700, 2648)\n"
     ]
    }
   ],
   "source": [
    "for i,img in enumerate(male_data):\n",
    "    \n",
    "    print(img.shape)\n",
    "    # temp=cv2.resize(img,wshape)\n",
    "    # plt.imshow(temp,cmap='gray')\n",
    "    # cv2.imshow()\n",
    "    if(i== 2):\n",
    "        break\n"
   ]
  },
  {
   "cell_type": "code",
   "execution_count": null,
   "metadata": {},
   "outputs": [],
   "source": [
    "for i,img in enumerate(female_data):\n",
    "    k=5\n",
    "    wshape=(2700,1900)\n",
    "\n",
    "    female_data[i]=cv2.resize(img,wshape)"
   ]
  },
  {
   "cell_type": "code",
   "execution_count": null,
   "metadata": {},
   "outputs": [],
   "source": [
    "\n",
    "\n",
    "glcm_male=[]\n",
    "glcm_female=[]\n",
    "\n",
    "for i,img in enumerate(male_data):\n",
    "    try:\n",
    "        temp=np.array(fast_glcm.fast_glcm_mean(img))\n",
    "        temp=temp.flatten()\n",
    "        glcm_male.append(temp)\n",
    "        \n",
    "    except :\n",
    "        print(i)\n"
   ]
  },
  {
   "cell_type": "code",
   "execution_count": null,
   "metadata": {},
   "outputs": [],
   "source": [
    "\n",
    "# np.save(\"glcm_male.npy\",glcm_male)"
   ]
  },
  {
   "cell_type": "code",
   "execution_count": null,
   "metadata": {},
   "outputs": [],
   "source": [
    "\n",
    "for i,img in enumerate(female_data):\n",
    "    try:\n",
    "        temp=np.array(fast_glcm.fast_glcm_mean(img))\n",
    "        temp=temp.flatten()\n",
    "        glcm_female.append(temp)\n",
    "        \n",
    "    except:\n",
    "        print(i)\n",
    "\n",
    "glcm_male=np.array(glcm_male)\n",
    "glcm_female=np.array(glcm_female)"
   ]
  },
  {
   "cell_type": "code",
   "execution_count": null,
   "metadata": {},
   "outputs": [],
   "source": [
    "# np.save(\"glcm_male.npy\",glcm_male)\n",
    "# np.save(\"glcm_female.npy\",glcm_female)\n"
   ]
  },
  {
   "cell_type": "code",
   "execution_count": null,
   "metadata": {},
   "outputs": [],
   "source": [
    "'''\n",
    "if you want to load the data again to work with them\n",
    "'''\n",
    "\n",
    "glcm_male=np.load('glcm_male.npy',allow_pickle=True)\n",
    "glcm_female=np.load('glcm_female.npy',allow_pickle=True)\n"
   ]
  },
  {
   "cell_type": "code",
   "execution_count": null,
   "metadata": {},
   "outputs": [],
   "source": [
    "pca=PCA(n_components=100)\n",
    "glcm_male=pca.fit_transform(glcm_male)\n",
    "# X_pca=pca.fit_transform(X)"
   ]
  },
  {
   "cell_type": "code",
   "execution_count": null,
   "metadata": {},
   "outputs": [],
   "source": [
    "pca=PCA(n_components=100)\n",
    "glcm_female=pca.fit_transform(glcm_female)\n",
    "# X_pca=pca.fit_transform(X)"
   ]
  },
  {
   "cell_type": "code",
   "execution_count": null,
   "metadata": {},
   "outputs": [],
   "source": [
    "print(glcm_female.shape)"
   ]
  },
  {
   "cell_type": "code",
   "execution_count": null,
   "metadata": {},
   "outputs": [],
   "source": [
    "\n",
    "X=np.concatenate((glcm_male,glcm_female),axis=0)\n",
    "\n",
    "Y=np.concatenate((np.ones(glcm_male.shape[0]),\n",
    "                np.zeros(glcm_female.shape[0])),\n",
    "                axis=0)"
   ]
  },
  {
   "cell_type": "code",
   "execution_count": null,
   "metadata": {},
   "outputs": [],
   "source": [
    "print(glcm_male.shape[0],glcm_female.shape[0])"
   ]
  },
  {
   "cell_type": "code",
   "execution_count": null,
   "metadata": {},
   "outputs": [],
   "source": [
    "X,Y=sklearn.utils.shuffle(X,Y)\n",
    "X_train, X_test, y_train, y_test = train_test_split(X, Y, test_size=0.2,random_state=109) # 70% training and 30% test\n"
   ]
  },
  {
   "cell_type": "code",
   "execution_count": null,
   "metadata": {},
   "outputs": [],
   "source": [
    "clf = svm.SVC(kernel='rbf', verbose=True, C=10)\n",
    "\n",
    "clf.fit(X_train, y_train)\n"
   ]
  },
  {
   "cell_type": "code",
   "execution_count": null,
   "metadata": {},
   "outputs": [],
   "source": [
    "\n",
    "y_pred = clf.predict(X_test)\n"
   ]
  },
  {
   "cell_type": "code",
   "execution_count": null,
   "metadata": {},
   "outputs": [],
   "source": [
    "#Import scikit-learn metrics module for accuracy calculation\n",
    "from sklearn import metrics\n",
    "\n",
    "# Model Accuracy: how often is the classifier correct?\n",
    "print(\"Accuracy:\",metrics.accuracy_score(y_test, y_pred))"
   ]
  },
  {
   "cell_type": "code",
   "execution_count": null,
   "metadata": {},
   "outputs": [],
   "source": []
  }
 ],
 "metadata": {
  "interpreter": {
   "hash": "916dbcbb3f70747c44a77c7bcd40155683ae19c65e1c03b4aa3499c5328201f1"
  },
  "kernelspec": {
   "display_name": "Python 3.8.10 64-bit",
   "language": "python",
   "name": "python3"
  },
  "language_info": {
   "codemirror_mode": {
    "name": "ipython",
    "version": 3
   },
   "file_extension": ".py",
   "mimetype": "text/x-python",
   "name": "python",
   "nbconvert_exporter": "python",
   "pygments_lexer": "ipython3",
   "version": "3.8.10"
  },
  "orig_nbformat": 4
 },
 "nbformat": 4,
 "nbformat_minor": 2
}
