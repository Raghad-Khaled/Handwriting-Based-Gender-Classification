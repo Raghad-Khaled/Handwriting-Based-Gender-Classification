{
 "cells": [
  {
   "cell_type": "code",
   "execution_count": 1,
   "metadata": {},
   "outputs": [
    {
     "name": "stderr",
     "output_type": "stream",
     "text": [
      "/home/mohamed/.local/lib/python3.8/site-packages/skimage/io/manage_plugins.py:23: UserWarning: Your installed pillow version is < 8.1.2. Several security issues (CVE-2021-27921, CVE-2021-25290, CVE-2021-25291, CVE-2021-25293, and more) have been fixed in pillow 8.1.2 or higher. We recommend to upgrade this library.\n",
      "  from .collection import imread_collection_wrapper\n"
     ]
    }
   ],
   "source": [
    "import glob\n",
    "import skimage.io as io\n",
    "import numpy as np\n",
    "#import commonfunctions as cf\n",
    "from skimage.feature import hog\n",
    "from sklearn.model_selection import train_test_split, cross_val_score\n",
    "from sklearn import svm\n",
    "import matplotlib.pyplot as plt\n",
    "from skimage.transform import rescale, resize, downscale_local_mean\n",
    "from sklearn import metrics\n",
    "import pickle\n",
    "import cv2\n",
    "import random\n",
    "import os\n",
    "\n"
   ]
  },
  {
   "cell_type": "code",
   "execution_count": 2,
   "metadata": {},
   "outputs": [],
   "source": [
    "'''\n",
    "        DO NOT RUN AGAIN\n",
    "        reading the male,female data  \n",
    "'''\n",
    "\n",
    "male_path='/dataset/Male/Male'\n",
    "female_path='/dataset/Female/Female'\n",
    "#print(os.listdir(os.getcwd()+male_path))\n",
    "male_path=os.getcwd()+male_path\n",
    "female_path=os.getcwd()+female_path\n",
    "\n",
    "def load_images_from_folder(folder):\n",
    "    images = []\n",
    "    for filename in os.listdir(folder):\n",
    "        img = cv2.imread(os.path.join(folder,filename))\n",
    "        if img is not None:\n",
    "            images.append(img)\n",
    "    return images\n",
    "male_data=np.array(load_images_from_folder(male_path))\n",
    "\n",
    "female_data=np.array( load_images_from_folder(female_path) )\n",
    "\n"
   ]
  },
  {
   "cell_type": "code",
   "execution_count": 3,
   "metadata": {},
   "outputs": [
    {
     "name": "stdout",
     "output_type": "stream",
     "text": [
      "(125,)\n",
      "(133,)\n"
     ]
    }
   ],
   "source": [
    "print(male_data.shape)\n",
    "\n",
    "print(female_data.shape)"
   ]
  },
  {
   "cell_type": "code",
   "execution_count": 4,
   "metadata": {},
   "outputs": [],
   "source": [
    "## preprocess male and female  data \n",
    "for i,image in enumerate(male_data):\n",
    "        image=female_data[i]\n",
    "        image=cv2.cvtColor(image,cv2.COLOR_BGR2GRAY) #convert to gray\n",
    "        image = cv2.GaussianBlur(image,(3,3),cv2.BORDER_DEFAULT)\n",
    "\n",
    "        image = cv2.adaptiveThreshold(image,255,cv2.ADAPTIVE_THRESH_GAUSSIAN_C,\\\n",
    "                cv2.THRESH_BINARY,11,2) # making the image binary\n",
    "        image = cv2.medianBlur(image, 5)\n",
    "        image = cv2.medianBlur(image, 5)\n",
    "        image = cv2.erode(image, None, iterations = 1)\n",
    "        female_data[i]=image\n",
    "        #cv2.imwrite(f'lol{i}.png',image)  #saving the image to view them\n",
    "\n",
    "        #doing the same again for the male data\n",
    "        image=male_data[i]\n",
    "        image=cv2.cvtColor(image,cv2.COLOR_BGR2GRAY)\n",
    "        image = cv2.GaussianBlur(image,(3,3),cv2.BORDER_DEFAULT)\n",
    "        image = cv2.adaptiveThreshold(image,255,cv2.ADAPTIVE_THRESH_GAUSSIAN_C,\\\n",
    "                cv2.THRESH_BINARY,11,2)\n",
    "        image = cv2.medianBlur(image, 5)\n",
    "        image = cv2.medianBlur(image, 5)\n",
    "        image = cv2.erode(image, None, iterations = 1)\n",
    "        male_data[i]=image\n",
    "\n",
    "    \n"
   ]
  },
  {
   "cell_type": "code",
   "execution_count": 8,
   "metadata": {},
   "outputs": [],
   "source": [
    "for i,img in enumerate(female_data):\n",
    "    cv2.imwrite(\"lol\"+str(i)+\".jpg\",img)\n",
    "    pass"
   ]
  },
  {
   "cell_type": "code",
   "execution_count": null,
   "metadata": {},
   "outputs": [],
   "source": [
    "'''\n",
    "to save data locally as numpy binary\n",
    "'''\n",
    "\n",
    "np.save('male_data.npy',male_data)\n",
    "np.save('female_data.npy',female_data)"
   ]
  },
  {
   "cell_type": "code",
   "execution_count": null,
   "metadata": {},
   "outputs": [],
   "source": [
    "'''\n",
    "if you want to load the data again to work with them\n",
    "'''\n",
    "\n",
    "male_data=np.load('male_data.npy',allow_pickle=True)\n",
    "female_data=np.load('female_data.npy',allow_pickle=True)"
   ]
  },
  {
   "cell_type": "code",
   "execution_count": null,
   "metadata": {},
   "outputs": [],
   "source": []
  }
 ],
 "metadata": {
  "interpreter": {
   "hash": "916dbcbb3f70747c44a77c7bcd40155683ae19c65e1c03b4aa3499c5328201f1"
  },
  "kernelspec": {
   "display_name": "Python 3.8.10 64-bit",
   "language": "python",
   "name": "python3"
  },
  "language_info": {
   "codemirror_mode": {
    "name": "ipython",
    "version": 3
   },
   "file_extension": ".py",
   "mimetype": "text/x-python",
   "name": "python",
   "nbconvert_exporter": "python",
   "pygments_lexer": "ipython3",
   "version": "3.8.10"
  },
  "orig_nbformat": 4
 },
 "nbformat": 4,
 "nbformat_minor": 2
}
