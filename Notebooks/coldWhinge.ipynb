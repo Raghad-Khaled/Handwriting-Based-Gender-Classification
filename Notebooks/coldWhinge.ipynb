{
 "cells": [
  {
   "cell_type": "code",
   "execution_count": 38,
   "metadata": {},
   "outputs": [],
   "source": [
    "import glob\n",
    "import skimage.io as io\n",
    "import numpy as np\n",
    "#import commonfunctions as cf\n",
    "import sklearn\n",
    "from skimage.feature import hog\n",
    "from sklearn.model_selection import train_test_split, cross_val_score\n",
    "from sklearn import svm\n",
    "import matplotlib.pyplot as plt\n",
    "from skimage.transform import rescale, resize, downscale_local_mean\n",
    "from sklearn import metrics\n",
    "from sklearn.preprocessing import MinMaxScaler\n",
    "import pickle\n",
    "import cv2\n",
    "import random\n",
    "import os\n",
    "from PIL import Image, ImageEnhance\n",
    "from PIL import Image, ImageEnhance\n",
    "import cv2\n",
    "import matplotlib.pyplot as plt\n",
    "import numpy as np\n",
    "import argparse\n",
    "import os\n",
    "from datetime import datetime\n",
    "from sklearn.preprocessing import MinMaxScaler\n",
    "from sklearn.metrics import classification_report, confusion_matrix\n",
    "from sklearn.svm import SVC\n",
    "from sklearn.model_selection import cross_val_score, cross_val_predict, RandomizedSearchCV\n",
    "from sklearn.metrics import *\n",
    "from sklearn.decomposition import PCA\n",
    "\n",
    "import pandas as pd\n",
    "\n"
   ]
  },
  {
   "cell_type": "code",
   "execution_count": 13,
   "metadata": {},
   "outputs": [],
   "source": [
    "\n",
    "'''\n",
    "if you want to load the data again to work with them\n",
    "'''\n",
    "\n",
    "male_data=np.load('male_data_small.npy',allow_pickle=True)\n",
    "female_data = np.load('female_data_small.npy',allow_pickle=True)\n",
    "\n",
    "#male_data_icdar=np.load('male_data_icdar.npy',allow_pickle=True)\n",
    "#female_data_icdar=np.load('female_data_icdar.npy',allow_pickle=True)\n"
   ]
  },
  {
   "cell_type": "code",
   "execution_count": 14,
   "metadata": {},
   "outputs": [
    {
     "name": "stdout",
     "output_type": "stream",
     "text": [
      "278\n",
      "286\n",
      "278\n",
      "286\n"
     ]
    }
   ],
   "source": [
    "#print(male_data_icdar.shape[0])\n",
    "#print(female_data_icdar.shape[0])\n",
    "\n",
    "#male_data=np.concatenate((male_data,male_data_icdar[:186]))\n",
    "#female_data=np.concatenate((female_data,female_data_icdar))\n",
    "#male_data=male_data_icdar\n",
    "#female_data=female_data_icdar\n",
    "#print(male_data.shape[0])\n",
    "#print(female_data.shape[0])\n"
   ]
  },
  {
   "cell_type": "code",
   "execution_count": 15,
   "metadata": {},
   "outputs": [],
   "source": [
    "from skimage import feature, exposure\n",
    "\n",
    "def HistogramofOrientedGradients(image):\n",
    "    resized_img = resize(image, (64, 128))\n",
    "    fd, hog_image = feature.hog(resized_img, orientations=9, pixels_per_cell=(8, 8),\n",
    "                    cells_per_block=(2, 2), visualize=True)\n",
    "    \n",
    "    return (np.array(fd)).flatten()\n",
    "\n"
   ]
  },
  {
   "cell_type": "code",
   "execution_count": 16,
   "metadata": {},
   "outputs": [],
   "source": [
    "# print(np.reshape(HistogramofOrientedGradients(male_data[0]),(1,-1)).shape)\n",
    "\n",
    "# temp=HistogramofOrientedGradients(male_data[0])\n",
    "# X=temp\n",
    "# X=np.reshape(X,(-1,1))\n",
    "# pca=PCA(n_components=10)\n",
    "# X=pca.fit_transform(X)\n",
    "# print(X)"
   ]
  },
  {
   "cell_type": "code",
   "execution_count": 17,
   "metadata": {},
   "outputs": [],
   "source": [
    "\n",
    "\n",
    "N_ANGLE_BINS = 40\n",
    "BIN_SIZE = 360 // N_ANGLE_BINS\n",
    "LEG_LENGTH = 25\n",
    "\n",
    "def get_contour_pixels(bw_image):\n",
    "    contours, _= cv2.findContours(\n",
    "        bw_image, cv2.RETR_TREE, \n",
    "        cv2.CHAIN_APPROX_NONE\n",
    "        ) \n",
    "    # contours = imutils.grab_contours(contours)\n",
    "    contours = sorted(contours, key=cv2.contourArea, reverse=True)[1:]\n",
    "    \n",
    "    img2 = bw_image.copy()[:,:,np.newaxis]\n",
    "    img2 = np.concatenate([img2, img2, img2], axis = 2)\n",
    "    \n",
    "    # if self.show_images:\n",
    "    #     for cnt in contours : \n",
    "    #         cv2.drawContours(img2, [cnt], 0, (255, 0, 0), 1)  \n",
    "            \n",
    "    #     plt.imshow(img2, cmap='gray')\n",
    "    return contours\n",
    "\n",
    "def get_hinge_features(bw_image):\n",
    "    # if self.is_binary:\n",
    "    #     bw_image, _ = self.preprocess_binary_image(img_file, self.sharpness_factor, self.bordersize)\n",
    "    # else:\n",
    "    #     bw_image, _ = self.preprocess_image(img_file, self.sharpness_factor, self.bordersize)\n",
    "    \n",
    "    contours = get_contour_pixels(bw_image)\n",
    "    \n",
    "    hist = np.zeros((N_ANGLE_BINS, N_ANGLE_BINS))\n",
    "        \n",
    "    # print([len(cnt) for cnt in contours])\n",
    "    for cnt in contours:\n",
    "        n_pixels = len(cnt)\n",
    "        if n_pixels <= LEG_LENGTH:\n",
    "            continue\n",
    "        \n",
    "        points = np.array([point[0] for point in cnt])\n",
    "        xs, ys = points[:, 0], points[:, 1]\n",
    "        point_1s = np.array([cnt[(i + LEG_LENGTH) % n_pixels][0] for i in range(n_pixels)])\n",
    "        point_2s = np.array([cnt[(i - LEG_LENGTH) % n_pixels][0] for i in range(n_pixels)])\n",
    "        x1s, y1s = point_1s[:, 0], point_1s[:, 1]\n",
    "        x2s, y2s = point_2s[:, 0], point_2s[:, 1]\n",
    "        \n",
    "        phi_1s = np.degrees(np.arctan2(y1s - ys, x1s - xs) + np.pi)\n",
    "        phi_2s = np.degrees(np.arctan2(y2s - ys, x2s - xs) + np.pi)\n",
    "        \n",
    "        indices = np.where(phi_2s > phi_1s)[0]\n",
    "        \n",
    "        for i in indices:\n",
    "            phi1 = int(phi_1s[i] // BIN_SIZE) % N_ANGLE_BINS\n",
    "            phi2 = int(phi_2s[i] // BIN_SIZE) % N_ANGLE_BINS\n",
    "            hist[phi1, phi2] += 1\n",
    "            \n",
    "    normalised_hist = hist / np.sum(hist)\n",
    "    feature_vector = normalised_hist[np.triu_indices_from(normalised_hist, k = 1)]\n",
    "    \n",
    "    return feature_vector\n",
    "\n",
    "\n",
    "#Initialization:\n",
    "N_RHO_BINS = 7\n",
    "N_ANGLE_BINS = 12\n",
    "N_BINS = N_RHO_BINS * N_ANGLE_BINS\n",
    "BIN_SIZE = 360 // N_ANGLE_BINS\n",
    "R_INNER = 5.0\n",
    "R_OUTER = 35.0\n",
    "K_S = np.arange(3, 8)\n",
    "def get_cold_features(bw_image, approx_poly_factor = 0.01 , sharpness_factor = 10 , bordersize = 3):\n",
    "\n",
    "    #bw_image, _ = preprocess_image(img_file, sharpness_factor, bordersize)\n",
    "    contours = get_contour_pixels(bw_image)\n",
    "    \n",
    "    rho_bins_edges = np.log10(np.linspace(R_INNER, R_OUTER, N_RHO_BINS))\n",
    "    feature_vectors = np.zeros((len(K_S), N_BINS))\n",
    "    \n",
    "    for j, k in enumerate(K_S):\n",
    "        hist = np.zeros((N_RHO_BINS, N_ANGLE_BINS))\n",
    "        for cnt in contours:\n",
    "            epsilon = approx_poly_factor * cv2.arcLength(cnt,True)\n",
    "            cnt = cv2.approxPolyDP(cnt,epsilon,True)\n",
    "            n_pixels = len(cnt)\n",
    "            \n",
    "            point_1s = np.array([point[0] for point in cnt])\n",
    "            x1s, y1s = point_1s[:, 0], point_1s[:, 1]\n",
    "            point_2s = np.array([cnt[(i + k) % n_pixels][0] for i in range(n_pixels)])\n",
    "            x2s, y2s = point_2s[:, 0], point_2s[:, 1]\n",
    "            \n",
    "            thetas = np.degrees(np.arctan2(y2s - y1s, x2s - x1s) + np.pi)\n",
    "            rhos = np.sqrt((y2s - y1s) ** 2 + (x2s - x1s) ** 2)\n",
    "            if(rhos.all()):\n",
    "                rhos_log_space = np.log10(rhos)\n",
    "            else:\n",
    "                rhos_log_space = rhos\n",
    "            \n",
    "            quantized_rhos = np.zeros(rhos.shape, dtype=int)\n",
    "            for i in range(N_RHO_BINS):\n",
    "                quantized_rhos += (rhos_log_space < rho_bins_edges[i])\n",
    "                \n",
    "            for i, r_bin in enumerate(quantized_rhos):\n",
    "                theta_bin = int(thetas[i] // BIN_SIZE) % N_ANGLE_BINS\n",
    "                hist[r_bin - 1, theta_bin] += 1\n",
    "            \n",
    "        normalised_hist = hist / hist.sum()\n",
    "        feature_vectors[j] = normalised_hist.flatten()\n",
    "        \n",
    "    return feature_vectors.flatten()\n",
    "\n",
    "    "
   ]
  },
  {
   "cell_type": "code",
   "execution_count": 18,
   "metadata": {},
   "outputs": [
    {
     "name": "stdout",
     "output_type": "stream",
     "text": [
      "(66,)\n",
      "(1420, 1000)\n"
     ]
    }
   ],
   "source": [
    "print(get_hinge_features(male_data[0]).shape)\n",
    "print(male_data[0].shape)"
   ]
  },
  {
   "cell_type": "code",
   "execution_count": 19,
   "metadata": {},
   "outputs": [
    {
     "name": "stdout",
     "output_type": "stream",
     "text": [
      "(420,)\n",
      "(66,)\n"
     ]
    }
   ],
   "source": [
    "print(get_cold_features(male_data[0]).shape)\n",
    "print(get_hinge_features(male_data[0]).shape)"
   ]
  },
  {
   "cell_type": "code",
   "execution_count": 20,
   "metadata": {},
   "outputs": [
    {
     "name": "stdout",
     "output_type": "stream",
     "text": [
      "[1 2 3 4 5 6 4 5 6]\n"
     ]
    }
   ],
   "source": [
    "a=np.array([1,2,3])\n",
    "b=np.array([4,5,6])\n",
    "c=np.array([4,5,6])\n",
    "d=np.concatenate((a,b,c),axis=0)\n",
    "print(d)"
   ]
  },
  {
   "cell_type": "code",
   "execution_count": 22,
   "metadata": {},
   "outputs": [],
   "source": [
    "\n",
    "\n",
    "cold_male_feature=[]\n",
    "cold_female_feature=[]\n",
    "hinge_male_feature=[]\n",
    "hinge_female_feature=[]\n",
    "hog_male_feature=[]\n",
    "hog_female_feature=[]\n",
    "# pca=PCA(n_components=70)\n",
    "# X=pca.fit_transform(X)\n",
    "# print(X.shape, Y.shape)\n",
    "\n",
    "#print(get_hinge_features(male_data[0]).shape)\n",
    "for i,img in enumerate(male_data):\n",
    "    \n",
    "    cold_male_feature.append(get_cold_features(img))\n",
    "    hinge_male_feature.append(get_hinge_features(img))\n",
    "    hog_male_feature.append(HistogramofOrientedGradients(img))\n",
    "    #male_feature.append(np.concatenate((cold,hinge),axis=0))\n",
    "    # print(i)\n",
    "\n",
    "for i,img in enumerate(female_data):\n",
    "    \n",
    "    cold_female_feature.append(get_cold_features(img))\n",
    "    hinge_female_feature.append(get_hinge_features(img))\n",
    "    hog_female_feature.append(HistogramofOrientedGradients(img))\n",
    "    #female_feature.append(np.concatenate((cold,hinge),axis=0))\n",
    "\n",
    "cold_male_feature=np.array(cold_male_feature)\n",
    "hinge_male_feature=np.array(hinge_male_feature)\n",
    "cold_female_feature=np.array(cold_female_feature)\n",
    "hinge_female_feature=np.array(hinge_female_feature)\n",
    "hog_male_feature=np.array(hog_male_feature)\n",
    "hog_female_feature=np.array(hog_female_feature)"
   ]
  },
  {
   "cell_type": "code",
   "execution_count": 23,
   "metadata": {},
   "outputs": [
    {
     "name": "stdout",
     "output_type": "stream",
     "text": [
      "(564, 70)\n",
      "(564, 66)\n",
      "(564, 3916)\n"
     ]
    }
   ],
   "source": [
    "\n",
    "X_cold=np.concatenate((cold_male_feature,cold_female_feature),axis=0)\n",
    "pca=PCA(n_components=70)\n",
    "X_cold=pca.fit_transform(X_cold)\n",
    "\n",
    "X_hinge=np.concatenate((hinge_male_feature,hinge_female_feature),axis=0)\n",
    "\n",
    "X_hog=np.concatenate((hog_male_feature,hog_female_feature),axis=0)\n",
    "\n",
    "X=np.concatenate((X_cold,X_hinge,X_hog),axis=1)\n",
    "\n",
    "\n",
    "Y=np.concatenate((np.ones(cold_male_feature.shape[0]),\n",
    "                np.zeros(cold_female_feature.shape[0])),\n",
    "                axis=0)\n",
    "\n",
    "print(X_cold[:,:70].shape)\n",
    "print(X_hinge.shape)\n",
    "print(X.shape)   \n"
   ]
  },
  {
   "cell_type": "code",
   "execution_count": 24,
   "metadata": {},
   "outputs": [
    {
     "name": "stdout",
     "output_type": "stream",
     "text": [
      "(278, 1420, 1000)\n",
      "(286, 1420, 1000)\n"
     ]
    }
   ],
   "source": [
    "print(male_data.shape)    \n",
    "print(female_data.shape)    "
   ]
  },
  {
   "cell_type": "code",
   "execution_count": 25,
   "metadata": {},
   "outputs": [],
   "source": [
    "# pca=PCA(n_components=70)\n",
    "# X=pca.fit_transform(X)\n",
    "# print(X.shape, Y.shape)\n"
   ]
  },
  {
   "cell_type": "code",
   "execution_count": 31,
   "metadata": {},
   "outputs": [],
   "source": [
    "X,Y=sklearn.utils.shuffle(X,Y)\n",
    "\n",
    "X_train, X_test, y_train, y_test = train_test_split(X, Y, test_size=0.2,random_state=42) # 70% training and 30% test\n"
   ]
  },
  {
   "cell_type": "code",
   "execution_count": 32,
   "metadata": {},
   "outputs": [
    {
     "name": "stdout",
     "output_type": "stream",
     "text": [
      "[LibSVM]..*.*\n",
      "optimization finished, #iter = 1409\n",
      "obj = -819.346115, rho = -0.340672\n",
      "nSV = 275, nBSV = 49\n",
      "Total nSV = 275\n",
      "..*.*\n",
      "optimization finished, #iter = 1294\n",
      "obj = -858.962093, rho = -0.579940\n",
      "nSV = 267, nBSV = 68\n",
      "Total nSV = 267\n",
      "..*.*\n",
      "optimization finished, #iter = 1320\n",
      "obj = -865.154043, rho = -0.405973\n",
      "nSV = 277, nBSV = 56\n",
      "Total nSV = 277\n",
      "..*.*\n",
      "optimization finished, #iter = 1375\n",
      "obj = -803.480006, rho = -0.075376\n",
      "nSV = 264, nBSV = 49\n",
      "Total nSV = 264\n",
      "..*.*\n",
      "optimization finished, #iter = 1358\n",
      "obj = -744.424575, rho = -0.282495\n",
      "nSV = 259, nBSV = 47\n",
      "Total nSV = 259\n",
      "..*.*\n",
      "optimization finished, #iter = 1668\n",
      "obj = -1053.763837, rho = 0.252481\n",
      "nSV = 328, nBSV = 74\n",
      "Total nSV = 328\n",
      "[[0.19612912 0.80387088]\n",
      " [0.8105222  0.1894778 ]\n",
      " [0.26456562 0.73543438]\n",
      " [0.90320868 0.09679132]\n",
      " [0.24749326 0.75250674]\n",
      " [0.38769971 0.61230029]\n",
      " [0.95521753 0.04478247]\n",
      " [0.32733258 0.67266742]\n",
      " [0.19265229 0.80734771]\n",
      " [0.58741532 0.41258468]\n",
      " [0.35014367 0.64985633]\n",
      " [0.65554471 0.34445529]\n",
      " [0.66904142 0.33095858]\n",
      " [0.12602921 0.87397079]\n",
      " [0.26468655 0.73531345]\n",
      " [0.27175167 0.72824833]\n",
      " [0.64739138 0.35260862]\n",
      " [0.2024862  0.7975138 ]\n",
      " [0.49351013 0.50648987]\n",
      " [0.13301854 0.86698146]\n",
      " [0.82748582 0.17251418]\n",
      " [0.23907238 0.76092762]\n",
      " [0.8563584  0.1436416 ]\n",
      " [0.09573041 0.90426959]\n",
      " [0.31146741 0.68853259]\n",
      " [0.91551177 0.08448823]\n",
      " [0.2752944  0.7247056 ]\n",
      " [0.11083054 0.88916946]\n",
      " [0.74256951 0.25743049]\n",
      " [0.72577239 0.27422761]\n",
      " [0.76001298 0.23998702]\n",
      " [0.07221381 0.92778619]\n",
      " [0.29336374 0.70663626]\n",
      " [0.63818194 0.36181806]\n",
      " [0.80786456 0.19213544]\n",
      " [0.53238004 0.46761996]\n",
      " [0.35515143 0.64484857]\n",
      " [0.48711206 0.51288794]\n",
      " [0.25437169 0.74562831]\n",
      " [0.16550068 0.83449932]\n",
      " [0.21450736 0.78549264]\n",
      " [0.70194085 0.29805915]\n",
      " [0.82038014 0.17961986]\n",
      " [0.46752984 0.53247016]\n",
      " [0.47291342 0.52708658]\n",
      " [0.98148911 0.01851089]\n",
      " [0.5        0.5       ]\n",
      " [0.77864666 0.22135334]\n",
      " [0.24986282 0.75013718]\n",
      " [0.03505639 0.96494361]\n",
      " [0.77605998 0.22394002]\n",
      " [0.63343078 0.36656922]\n",
      " [0.6395971  0.3604029 ]\n",
      " [0.26808428 0.73191572]\n",
      " [0.3483922  0.6516078 ]\n",
      " [0.19125093 0.80874907]\n",
      " [0.60251055 0.39748945]\n",
      " [0.54234062 0.45765938]\n",
      " [0.19894911 0.80105089]\n",
      " [0.85165354 0.14834646]\n",
      " [0.20336438 0.79663562]\n",
      " [0.68894509 0.31105491]\n",
      " [0.78672124 0.21327876]\n",
      " [0.42861251 0.57138749]\n",
      " [0.32026423 0.67973577]\n",
      " [0.82883287 0.17116713]\n",
      " [0.5372575  0.4627425 ]\n",
      " [0.56837665 0.43162335]\n",
      " [0.5907266  0.4092734 ]\n",
      " [0.35166487 0.64833513]\n",
      " [0.79080352 0.20919648]\n",
      " [0.05900052 0.94099948]\n",
      " [0.28410518 0.71589482]\n",
      " [0.33280186 0.66719814]\n",
      " [0.75194774 0.24805226]\n",
      " [0.6408786  0.3591214 ]\n",
      " [0.22026621 0.77973379]\n",
      " [0.80144385 0.19855615]\n",
      " [0.68233842 0.31766158]\n",
      " [0.37352129 0.62647871]\n",
      " [0.88720358 0.11279642]\n",
      " [0.64400545 0.35599455]\n",
      " [0.57450984 0.42549016]\n",
      " [0.19982833 0.80017167]\n",
      " [0.16666187 0.83333813]\n",
      " [0.13001851 0.86998149]\n",
      " [0.4136492  0.5863508 ]\n",
      " [0.19685861 0.80314139]\n",
      " [0.89741822 0.10258178]\n",
      " [0.41175093 0.58824907]\n",
      " [0.20713154 0.79286846]\n",
      " [0.91521693 0.08478307]\n",
      " [0.57370247 0.42629753]\n",
      " [0.38965825 0.61034175]\n",
      " [0.51210832 0.48789168]\n",
      " [0.45876922 0.54123078]\n",
      " [0.42412055 0.57587945]\n",
      " [0.58073342 0.41926658]\n",
      " [0.19140148 0.80859852]\n",
      " [0.09127815 0.90872185]\n",
      " [0.74567801 0.25432199]\n",
      " [0.79879885 0.20120115]\n",
      " [0.11958324 0.88041676]\n",
      " [0.9252853  0.0747147 ]\n",
      " [0.96547196 0.03452804]\n",
      " [0.87102414 0.12897586]\n",
      " [0.2498266  0.7501734 ]\n",
      " [0.37033787 0.62966213]\n",
      " [0.35075109 0.64924891]\n",
      " [0.57803237 0.42196763]\n",
      " [0.35220934 0.64779066]\n",
      " [0.3287232  0.6712768 ]\n",
      " [0.74325019 0.25674981]]\n",
      "Accuracy: 0.7168141592920354\n"
     ]
    }
   ],
   "source": [
    "model_cold = svm.SVC(kernel='rbf', verbose=True, C=10,probability=True)\n",
    "\n",
    "model_cold.fit(X_train[:,:70], y_train)\n",
    "y_pred_cold=model_cold.predict(X_test[:,:70])\n",
    "y_pred_prob_cold=model_cold.predict_proba(X_test[:,:70])\n",
    "print(y_pred_prob_cold)\n",
    "print(\"Accuracy:\",metrics.accuracy_score(y_test, y_pred_cold))\n"
   ]
  },
  {
   "cell_type": "code",
   "execution_count": 33,
   "metadata": {},
   "outputs": [
    {
     "name": "stdout",
     "output_type": "stream",
     "text": [
      "[LibSVM]..*.*\n",
      "optimization finished, #iter = 1143\n",
      "obj = -1751.422792, rho = -1.512264\n",
      "nSV = 266, nBSV = 174\n",
      "Total nSV = 266\n",
      "..*.*\n",
      "optimization finished, #iter = 1088\n",
      "obj = -1658.352711, rho = -0.495340\n",
      "nSV = 261, nBSV = 169\n",
      "Total nSV = 261\n",
      ".*.*\n",
      "optimization finished, #iter = 973\n",
      "obj = -1744.787531, rho = -1.503523\n",
      "nSV = 264, nBSV = 174\n",
      "Total nSV = 264\n",
      ".*.*\n",
      "optimization finished, #iter = 942\n",
      "obj = -1638.446053, rho = -1.259617\n",
      "nSV = 252, nBSV = 164\n",
      "Total nSV = 252\n",
      ".*.*\n",
      "optimization finished, #iter = 944\n",
      "obj = -1688.684632, rho = -1.598283\n",
      "nSV = 261, nBSV = 173\n",
      "Total nSV = 261\n",
      ".*.*\n",
      "optimization finished, #iter = 1041\n",
      "obj = -2156.367749, rho = 1.242260\n",
      "nSV = 318, nBSV = 218\n",
      "Total nSV = 318\n",
      "Accuracy: 0.7168141592920354\n"
     ]
    }
   ],
   "source": [
    "model_hinge = svm.SVC(kernel='rbf', verbose=True, C=10,probability=True)\n",
    "\n",
    "model_hinge.fit(X_train[:,70:136], y_train)\n",
    "y_pred_hinge=model_hinge.predict(X_test[:,70:136])\n",
    "y_pred_prob_hinge=model_hinge.predict_proba(X_test[:,70:136])\n",
    "print(\"Accuracy:\",metrics.accuracy_score(y_test, y_pred_hinge))\n"
   ]
  },
  {
   "cell_type": "code",
   "execution_count": 34,
   "metadata": {},
   "outputs": [
    {
     "name": "stdout",
     "output_type": "stream",
     "text": [
      "[LibSVM].*.*\n",
      "optimization finished, #iter = 903\n",
      "obj = -442.236015, rho = -0.192810\n",
      "nSV = 355, nBSV = 0\n",
      "Total nSV = 355\n",
      ".*.*\n",
      "optimization finished, #iter = 900\n",
      "obj = -440.980349, rho = -0.002614\n",
      "nSV = 350, nBSV = 0\n",
      "Total nSV = 350\n",
      ".*.*\n",
      "optimization finished, #iter = 948\n",
      "obj = -460.437234, rho = 0.037690\n",
      "nSV = 356, nBSV = 0\n",
      "Total nSV = 356\n",
      ".*.*\n",
      "optimization finished, #iter = 906\n",
      "obj = -443.745010, rho = -0.124580\n",
      "nSV = 354, nBSV = 0\n",
      "Total nSV = 354\n",
      ".*.*\n",
      "optimization finished, #iter = 904\n",
      "obj = -437.880380, rho = -0.249475\n",
      "nSV = 355, nBSV = 0\n",
      "Total nSV = 355\n",
      ".*.*\n",
      "optimization finished, #iter = 1173\n",
      "obj = -574.863601, rho = 0.162669\n",
      "nSV = 440, nBSV = 0\n",
      "Total nSV = 440\n",
      "[0. 1. 0. 0. 1. 1. 0. 0. 1. 0. 0. 0. 1. 0. 1. 1. 1. 0. 0. 1. 0. 1. 0. 1.\n",
      " 1. 0. 0. 0. 1. 0. 1. 0. 0. 0. 0. 1. 0. 0. 1. 1. 1. 1. 0. 0. 1. 0. 0. 0.\n",
      " 1. 1. 0. 0. 1. 0. 1. 1. 0. 0. 1. 0. 0. 0. 0. 0. 1. 0. 1. 1. 1. 0. 0. 0.\n",
      " 0. 1. 0. 0. 1. 0. 0. 0. 1. 1. 0. 1. 0. 0. 1. 0. 1. 1. 1. 0. 1. 0. 1. 0.\n",
      " 1. 1. 0. 0. 1. 0. 1. 0. 1. 0. 0. 1. 0. 0. 0. 1. 1.]\n",
      "Accuracy: 0.5929203539823009\n"
     ]
    }
   ],
   "source": [
    "model_hog = svm.SVC(kernel='rbf', verbose=True, C=10,probability=True)\n",
    "\n",
    "model_hog.fit(X_train[:,136:], y_train)\n",
    "y_pred_hog=model_hog.predict(X_test[:,136:])\n",
    "print(y_pred_hog)\n",
    "y_pred_prob_hog=model_hog.predict_proba(X_test[:,136:])\n",
    "print(\"Accuracy:\",metrics.accuracy_score(y_test, y_pred_hog))"
   ]
  },
  {
   "cell_type": "code",
   "execution_count": 35,
   "metadata": {},
   "outputs": [
    {
     "name": "stdout",
     "output_type": "stream",
     "text": [
      "Accuracy: 0.7522123893805309\n"
     ]
    }
   ],
   "source": [
    "y_pred=np.argmax(y_pred_prob_hinge+y_pred_prob_cold+y_pred_prob_hog, axis=1)\n",
    "#print(y_pred)\n",
    "print(\"Accuracy:\",metrics.accuracy_score(y_test, y_pred))"
   ]
  },
  {
   "cell_type": "code",
   "execution_count": 36,
   "metadata": {},
   "outputs": [],
   "source": [
    "\n",
    "#y_pred = clf.predict(X_test)\n",
    "\n",
    "# print(y_pred)\n",
    "# print(y_test)"
   ]
  },
  {
   "cell_type": "code",
   "execution_count": 37,
   "metadata": {},
   "outputs": [
    {
     "name": "stdout",
     "output_type": "stream",
     "text": [
      "Accuracy: 0.7522123893805309\n"
     ]
    }
   ],
   "source": [
    "#Import scikit-learn metrics module for accuracy calculation\n",
    "from sklearn import metrics\n",
    "\n",
    "# Model Accuracy: how often is the classifier correct?\n",
    "print(\"Accuracy:\",metrics.accuracy_score(y_test, y_pred))"
   ]
  },
  {
   "cell_type": "code",
   "execution_count": 37,
   "metadata": {},
   "outputs": [
    {
     "ename": "NameError",
     "evalue": "name 'male_feature' is not defined",
     "output_type": "error",
     "traceback": [
      "\u001b[0;31m---------------------------------------------------------------------------\u001b[0m",
      "\u001b[0;31mNameError\u001b[0m                                 Traceback (most recent call last)",
      "\u001b[0;32m/tmp/ipykernel_25131/3261413345.py\u001b[0m in \u001b[0;36m<module>\u001b[0;34m\u001b[0m\n\u001b[1;32m      1\u001b[0m \u001b[0maccuracy\u001b[0m\u001b[0;34m=\u001b[0m\u001b[0;36m0\u001b[0m\u001b[0;34m\u001b[0m\u001b[0;34m\u001b[0m\u001b[0m\n\u001b[0;32m----> 2\u001b[0;31m \u001b[0mX\u001b[0m\u001b[0;34m=\u001b[0m\u001b[0mnp\u001b[0m\u001b[0;34m.\u001b[0m\u001b[0mconcatenate\u001b[0m\u001b[0;34m(\u001b[0m\u001b[0;34m(\u001b[0m\u001b[0mmale_feature\u001b[0m\u001b[0;34m,\u001b[0m\u001b[0mfemale_feature\u001b[0m\u001b[0;34m)\u001b[0m\u001b[0;34m,\u001b[0m\u001b[0maxis\u001b[0m\u001b[0;34m=\u001b[0m\u001b[0;36m0\u001b[0m\u001b[0;34m)\u001b[0m\u001b[0;34m\u001b[0m\u001b[0;34m\u001b[0m\u001b[0m\n\u001b[0m\u001b[1;32m      3\u001b[0m Y=np.concatenate((np.ones(male_feature.shape[0]),\n\u001b[1;32m      4\u001b[0m                     np.zeros(female_feature.shape[0])),\n\u001b[1;32m      5\u001b[0m                     axis=0)\n",
      "\u001b[0;31mNameError\u001b[0m: name 'male_feature' is not defined"
     ]
    }
   ],
   "source": [
    "accuracy=0\n",
    "X=np.concatenate((male_feature,female_feature),axis=0)\n",
    "Y=np.concatenate((np.ones(male_feature.shape[0]),\n",
    "                    np.zeros(female_feature.shape[0])),\n",
    "                    axis=0)\n",
    "pca=PCA(n_components=200)\n",
    "X=pca.fit_transform(X)\n",
    "t=0\n",
    "for i in range(0,100):\n",
    "\n",
    "\n",
    "    X,Y=sklearn.utils.shuffle(X,Y)\n",
    "\n",
    "    X_train, X_test, y_train, y_test = train_test_split(X, Y, test_size=0.2,random_state=(i+1000)%5) # 70% training and 30% test\n",
    "    clf = svm.SVC(kernel='rbf', verbose=True, C=10)\n",
    "\n",
    "    clf.fit(X_train, y_train)\n",
    "\n",
    "    y_pred = clf.predict(X_test)\n",
    "    accuracy+=metrics.accuracy_score(y_test, y_pred)\n",
    "\n",
    "    \n",
    "    pass\n",
    "print(accuracy/100)"
   ]
  },
  {
   "cell_type": "code",
   "execution_count": 34,
   "metadata": {},
   "outputs": [
    {
     "name": "stdout",
     "output_type": "stream",
     "text": [
      "(232, 486)\n"
     ]
    }
   ],
   "source": [
    "print(male_feature.shape)"
   ]
  },
  {
   "cell_type": "code",
   "execution_count": null,
   "metadata": {},
   "outputs": [],
   "source": []
  },
  {
   "cell_type": "code",
   "execution_count": null,
   "metadata": {},
   "outputs": [],
   "source": [
    "\n"
   ]
  },
  {
   "cell_type": "code",
   "execution_count": null,
   "metadata": {},
   "outputs": [
    {
     "name": "stdout",
     "output_type": "stream",
     "text": [
      "(3, 3) (3, 4)\n",
      "[[1. 1. 1. 0. 0. 0. 0.]\n",
      " [1. 1. 1. 0. 0. 0. 0.]\n",
      " [1. 1. 1. 0. 0. 0. 0.]]\n"
     ]
    }
   ],
   "source": [
    "a=np.ones((3,3))\n",
    "b=np.zeros((3,4))\n",
    "print(a.shape,b.shape)\n",
    "print(np.concatenate((a,b),axis=1))"
   ]
  },
  {
   "cell_type": "code",
   "execution_count": null,
   "metadata": {},
   "outputs": [],
   "source": [
    "def cold_model(male_data,female_data):\n",
    "    cold_male_feature=[]\n",
    "    cold_female_feature=[]\n",
    "    for i,img in enumerate(male_data):\n",
    "        cold_male_feature.append(get_cold_features(img))\n",
    "\n",
    "    for i,img in enumerate(female_data):        \n",
    "        cold_female_feature.append(get_cold_features(img))\n",
    "    cold_male_feature=np.array(cold_male_feature)\n",
    "    cold_female_feature=np.array(cold_female_feature)\n",
    "    X_cold=np.concatenate((cold_male_feature,cold_female_feature),axis=0)\n",
    "    pca=PCA(n_components=70)\n",
    "    X_cold=pca.fit_transform(X_cold)\n",
    "\n",
    "    \n",
    "        "
   ]
  }
 ],
 "metadata": {
  "interpreter": {
   "hash": "916dbcbb3f70747c44a77c7bcd40155683ae19c65e1c03b4aa3499c5328201f1"
  },
  "kernelspec": {
   "display_name": "Python 3.8.10 64-bit",
   "language": "python",
   "name": "python3"
  },
  "language_info": {
   "codemirror_mode": {
    "name": "ipython",
    "version": 3
   },
   "file_extension": ".py",
   "mimetype": "text/x-python",
   "name": "python",
   "nbconvert_exporter": "python",
   "pygments_lexer": "ipython3",
   "version": "3.8.10"
  },
  "orig_nbformat": 4
 },
 "nbformat": 4,
 "nbformat_minor": 2
}
