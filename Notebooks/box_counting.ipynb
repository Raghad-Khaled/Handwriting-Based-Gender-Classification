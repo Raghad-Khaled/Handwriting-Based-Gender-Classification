{
 "cells": [
  {
   "cell_type": "code",
   "execution_count": 5,
   "metadata": {},
   "outputs": [],
   "source": [
    "import numpy as np\n",
    "import matplotlib.pyplot as plt\n",
    "import cv2\n",
    "import os"
   ]
  },
  {
   "cell_type": "code",
   "execution_count": 6,
   "metadata": {},
   "outputs": [],
   "source": [
    "\n",
    "def box_counting(image): \n",
    "    \"\"\"\n",
    "    this function compute fractal dimension (2D) for given image\n",
    "    it from here https://francescoturci.net/2016/03/31/box-counting-in-numpy/\n",
    "    \"\"\"\n",
    "    # finding all the non-zero pixels\n",
    "    pixels=[]\n",
    "    for i in range(image.shape[0]):\n",
    "        for j in range(image.shape[1]):\n",
    "            if image[i,j]>0:\n",
    "                pixels.append((i,j))\n",
    "    \n",
    "    Lx=image.shape[1]\n",
    "    Ly=image.shape[0]\n",
    "\n",
    "    pixels=np.array(pixels)\n",
    "    \n",
    "    # computing the fractal dimension\n",
    "    #considering only scales in a logarithmic list\n",
    "    scales=np.logspace(0.01, 1, num=10, endpoint=False, base=2)\n",
    "    Ns=[]\n",
    "    # looping over several scales\n",
    "    for scale in scales:\n",
    "        # computing the histogram\n",
    "        H, edges=np.histogramdd(pixels, bins=(np.arange(0,Lx,scale),np.arange(0,Ly,scale)))\n",
    "        Ns.append(np.sum(H>0))\n",
    "    \n",
    "    # linear fit, polynomial of degree 1\n",
    "    coeffs=np.polyfit(np.log(scales), np.log(Ns), 1)\n",
    "    return -coeffs[0] #the fractal dimension is the OPPOSITE of the fitting coefficient\n"
   ]
  },
  {
   "cell_type": "code",
   "execution_count": 11,
   "metadata": {},
   "outputs": [],
   "source": [
    "box_counting_feature = []\n",
    "male_path = '/dataset/Male/Male/'\n",
    "male_path=os.getcwd()+male_path\n",
    "for filename in os.listdir(male_path):\n",
    "        image = cv2.imread(os.path.join(male_path,filename))\n",
    "        if image is not None:\n",
    "            image = cv2.cvtColor(image, cv2.COLOR_BGR2GRAY)\n",
    "            box_counting_feature.append(box_counting(image))"
   ]
  },
  {
   "cell_type": "code",
   "execution_count": 12,
   "metadata": {},
   "outputs": [
    {
     "name": "stdout",
     "output_type": "stream",
     "text": [
      "[2.0005791209456865, 1.9994588986236375, 1.9995161043377407, 2.0004816380907844, 1.9995468520925999, 1.9997291102137946, 1.999987911114071, 1.9994505731183845, 1.9995368333504144, 1.9997130767765068, 1.9996986374806824, 2.000306841577914, 2.000148585595417, 2.0000580729634794, 2.0002136943167286, 2.000329899102389, 2.0005347074669806, 2.0001015784934344, 2.000285783508786, 2.0001700746039095, 2.000319278378331, 1.99978709938008, 2.0000465849135924, 1.9997929381087647, 1.9997729820550072, 1.999498628133414, 2.000203980154768, 1.9998773073645657, 1.9998007052360083, 1.999957047566991, 2.000285783508786, 2.0001885137640807, 1.9996077096830673, 2.000352392848087, 2.0004384053876287, 2.0003549358124806, 2.0004626346213845, 1.9997867301176664, 2.000139591215761, 1.999246732759642, 2.0001301890799947, 2.000499018516586, 1.9998663103112149, 2.0004251075750275, 2.0003133819340793, 2.0000673191970737, 2.0003913723393008, 2.000553385127134, 1.9992964076586177, 1.9997729820550072, 1.9992769095367156, 1.999895681452734, 2.000085212402927, 1.9991902737725673, 2.00006869093709, 2.000035102024551, 1.9999411722588818, 1.999678732879382, 1.9998007052360083, 1.9994926336442638, 2.000035432804852, 2.000822485060533, 1.9996476036342907, 1.9999024831607133, 1.9999402299275126, 1.9995368333504144, 2.000113214970303, 2.0001572043406983, 2.000131387346685, 1.9995615143053826, 1.9999764452116369, 1.9997929381087647, 1.9995319924800383, 1.9996147252020053, 1.9998534194479327, 2.0007819309187713, 1.9999411722588818, 1.999783726509926, 1.9992967600578448, 1.9999567750890275, 1.9999295577479523, 2.0003250672319868, 2.000105866811783, 2.000139591215761, 2.000317779296761, 1.999875424281166, 2.0003859899635943, 1.9998514664971399, 2.001043212508602, 2.0000115431802916, 2.0001651394109885, 2.000122070504881, 2.0001243497737664, 1.9992805147109538, 1.999987911114071, 2.0000231512543425, 1.9999411722588818, 1.9995971915556012, 2.0002968384128605, 2.0001247727482303, 2.000011081536493, 2.0003913723393008, 1.999279975490844, 2.0001273254461105, 1.9996405396596, 1.9995458835002997, 2.000499018516586, 1.999546813907258, 1.9998505954911519, 2.000020891235763, 1.9999657809397082, 2.0001447020905476, 2.0006412037455457, 1.9999148769400412, 2.000033462832872, 2.000499018516586, 1.999895681452734, 1.9996297324499366, 2.000129194465812, 1.99976801223424, 1.9998374362295595, 2.0001885137640807, 2.0001567700538376, 1.9997633351613857, 1.9996018597403964]\n"
     ]
    }
   ],
   "source": [
    "print(box_counting_feature)"
   ]
  },
  {
   "cell_type": "code",
   "execution_count": null,
   "metadata": {},
   "outputs": [],
   "source": []
  }
 ],
 "metadata": {
  "interpreter": {
   "hash": "16eaf64d804c64982ecaa3d552fe6459f2afbedbd70923f4efe6f78d1fdb2db7"
  },
  "kernelspec": {
   "display_name": "Python 3.7.4 ('base')",
   "language": "python",
   "name": "python3"
  },
  "language_info": {
   "codemirror_mode": {
    "name": "ipython",
    "version": 3
   },
   "file_extension": ".py",
   "mimetype": "text/x-python",
   "name": "python",
   "nbconvert_exporter": "python",
   "pygments_lexer": "ipython3",
   "version": "3.7.4"
  },
  "orig_nbformat": 4
 },
 "nbformat": 4,
 "nbformat_minor": 2
}
