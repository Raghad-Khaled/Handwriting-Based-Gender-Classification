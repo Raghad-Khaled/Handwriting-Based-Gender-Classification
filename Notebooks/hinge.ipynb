{
 "cells": [
  {
   "cell_type": "code",
   "execution_count": 1,
   "metadata": {},
   "outputs": [],
   "source": [
    "import glob\n",
    "import skimage.io as io\n",
    "import numpy as np\n",
    "#import commonfunctions as cf\n",
    "import sklearn\n",
    "from skimage.feature import hog\n",
    "from sklearn.model_selection import train_test_split, cross_val_score, cross_val_predict, RandomizedSearchCV\n",
    "from sklearn import svm\n",
    "import matplotlib.pyplot as plt\n",
    "from skimage.transform import rescale, resize, downscale_local_mean\n",
    "from sklearn import metrics\n",
    "from sklearn.preprocessing import MinMaxScaler\n",
    "\n",
    "import pickle\n",
    "import cv2\n",
    "import random\n",
    "import os\n",
    "\n",
    "from PIL import Image, ImageEnhance\n",
    "\n",
    "import argparse\n",
    "from datetime import datetime\n",
    "# from sklearn.metrics import classification_report, confusion_matrix\n",
    "# from sklearn.svm import SVC\n",
    "# from sklearn.metrics import *\n",
    "\n"
   ]
  },
  {
   "cell_type": "code",
   "execution_count": 2,
   "metadata": {},
   "outputs": [
    {
     "ename": "EOFError",
     "evalue": "Ran out of input",
     "output_type": "error",
     "traceback": [
      "\u001b[1;31m---------------------------------------------------------------------------\u001b[0m",
      "\u001b[1;31mEOFError\u001b[0m                                  Traceback (most recent call last)",
      "\u001b[1;32m<ipython-input-2-829892828480>\u001b[0m in \u001b[0;36m<module>\u001b[1;34m\u001b[0m\n\u001b[0;32m      3\u001b[0m '''\n\u001b[0;32m      4\u001b[0m \u001b[1;33m\u001b[0m\u001b[0m\n\u001b[1;32m----> 5\u001b[1;33m \u001b[0mmale_data\u001b[0m\u001b[1;33m=\u001b[0m\u001b[0mnp\u001b[0m\u001b[1;33m.\u001b[0m\u001b[0mload\u001b[0m\u001b[1;33m(\u001b[0m\u001b[1;34m'male_data.npy'\u001b[0m\u001b[1;33m,\u001b[0m\u001b[0mallow_pickle\u001b[0m\u001b[1;33m=\u001b[0m\u001b[1;32mTrue\u001b[0m\u001b[1;33m)\u001b[0m\u001b[1;33m\u001b[0m\u001b[1;33m\u001b[0m\u001b[0m\n\u001b[0m\u001b[0;32m      6\u001b[0m \u001b[1;31m# female_data=np.load('female_data.npy',allow_pickle=True)\u001b[0m\u001b[1;33m\u001b[0m\u001b[1;33m\u001b[0m\u001b[1;33m\u001b[0m\u001b[0m\n",
      "\u001b[1;32mc:\\Users\\Nada\\Anaconda3\\lib\\site-packages\\numpy\\lib\\npyio.py\u001b[0m in \u001b[0;36mload\u001b[1;34m(file, mmap_mode, allow_pickle, fix_imports, encoding)\u001b[0m\n\u001b[0;32m    445\u001b[0m             \u001b[1;32melse\u001b[0m\u001b[1;33m:\u001b[0m\u001b[1;33m\u001b[0m\u001b[1;33m\u001b[0m\u001b[0m\n\u001b[0;32m    446\u001b[0m                 return format.read_array(fid, allow_pickle=allow_pickle,\n\u001b[1;32m--> 447\u001b[1;33m                                          pickle_kwargs=pickle_kwargs)\n\u001b[0m\u001b[0;32m    448\u001b[0m         \u001b[1;32melse\u001b[0m\u001b[1;33m:\u001b[0m\u001b[1;33m\u001b[0m\u001b[1;33m\u001b[0m\u001b[0m\n\u001b[0;32m    449\u001b[0m             \u001b[1;31m# Try a pickle\u001b[0m\u001b[1;33m\u001b[0m\u001b[1;33m\u001b[0m\u001b[1;33m\u001b[0m\u001b[0m\n",
      "\u001b[1;32mc:\\Users\\Nada\\Anaconda3\\lib\\site-packages\\numpy\\lib\\format.py\u001b[0m in \u001b[0;36mread_array\u001b[1;34m(fp, allow_pickle, pickle_kwargs)\u001b[0m\n\u001b[0;32m    699\u001b[0m             \u001b[0mpickle_kwargs\u001b[0m \u001b[1;33m=\u001b[0m \u001b[1;33m{\u001b[0m\u001b[1;33m}\u001b[0m\u001b[1;33m\u001b[0m\u001b[1;33m\u001b[0m\u001b[0m\n\u001b[0;32m    700\u001b[0m         \u001b[1;32mtry\u001b[0m\u001b[1;33m:\u001b[0m\u001b[1;33m\u001b[0m\u001b[1;33m\u001b[0m\u001b[0m\n\u001b[1;32m--> 701\u001b[1;33m             \u001b[0marray\u001b[0m \u001b[1;33m=\u001b[0m \u001b[0mpickle\u001b[0m\u001b[1;33m.\u001b[0m\u001b[0mload\u001b[0m\u001b[1;33m(\u001b[0m\u001b[0mfp\u001b[0m\u001b[1;33m,\u001b[0m \u001b[1;33m**\u001b[0m\u001b[0mpickle_kwargs\u001b[0m\u001b[1;33m)\u001b[0m\u001b[1;33m\u001b[0m\u001b[1;33m\u001b[0m\u001b[0m\n\u001b[0m\u001b[0;32m    702\u001b[0m         \u001b[1;32mexcept\u001b[0m \u001b[0mUnicodeError\u001b[0m \u001b[1;32mas\u001b[0m \u001b[0merr\u001b[0m\u001b[1;33m:\u001b[0m\u001b[1;33m\u001b[0m\u001b[1;33m\u001b[0m\u001b[0m\n\u001b[0;32m    703\u001b[0m             \u001b[1;32mif\u001b[0m \u001b[0msys\u001b[0m\u001b[1;33m.\u001b[0m\u001b[0mversion_info\u001b[0m\u001b[1;33m[\u001b[0m\u001b[1;36m0\u001b[0m\u001b[1;33m]\u001b[0m \u001b[1;33m>=\u001b[0m \u001b[1;36m3\u001b[0m\u001b[1;33m:\u001b[0m\u001b[1;33m\u001b[0m\u001b[1;33m\u001b[0m\u001b[0m\n",
      "\u001b[1;31mEOFError\u001b[0m: Ran out of input"
     ]
    }
   ],
   "source": [
    "'''\n",
    "if you want to load the data again to work with them\n",
    "'''\n",
    "\n",
    "male_data=np.load('male_data.npy',allow_pickle=True)\n",
    "# female_data=np.load('female_data.npy',allow_pickle=True)"
   ]
  },
  {
   "cell_type": "code",
   "execution_count": null,
   "metadata": {},
   "outputs": [
    {
     "name": "stdout",
     "output_type": "stream",
     "text": [
      "(2712, 1940)\n"
     ]
    },
    {
     "data": {
      "text/plain": [
       "<matplotlib.image.AxesImage at 0x7f9da18351f0>"
      ]
     },
     "execution_count": 3,
     "metadata": {},
     "output_type": "execute_result"
    },
    {
     "data": {
      "image/png": "[encoded data removed]",
      "text/plain": [
       "<Figure size 432x288 with 1 Axes>"
      ]
     },
     "metadata": {
      "needs_background": "light"
     },
     "output_type": "display_data"
    }
   ],
   "source": [
    "print(male_data[0].shape)\n",
    "plt.imshow(male_data[0],cmap='gray')"
   ]
  },
  {
   "cell_type": "code",
   "execution_count": null,
   "metadata": {},
   "outputs": [],
   "source": [
    "\n",
    "# for i,img in enumerate(male_data):\n",
    "#     k=5\n",
    "#     wshape=(100*k,142*k)\n",
    "\n",
    "#     male_data[i]=cv2.resize(img,wshape)"
   ]
  },
  {
   "cell_type": "code",
   "execution_count": null,
   "metadata": {},
   "outputs": [],
   "source": [
    "# for i,img in enumerate(female_data):\n",
    "#     k=5\n",
    "#     wshape=(100*k,142*k)\n",
    "\n",
    "#     female_data[i]=cv2.resize(img,wshape)"
   ]
  },
  {
   "cell_type": "code",
   "execution_count": null,
   "metadata": {},
   "outputs": [
    {
     "data": {
      "text/plain": [
       "True"
      ]
     },
     "execution_count": 6,
     "metadata": {},
     "output_type": "execute_result"
    },
    {
     "data": {
      "image/png": "[encoded data removed]",
      "text/plain": [
       "<Figure size 432x288 with 1 Axes>"
      ]
     },
     "metadata": {
      "needs_background": "light"
     },
     "output_type": "display_data"
    }
   ],
   "source": [
    "plt.imshow(male_data[0],cmap='gray')\n",
    "cv2.imwrite(\"lol.jpg\",male_data[0])"
   ]
  },
  {
   "cell_type": "code",
   "execution_count": null,
   "metadata": {},
   "outputs": [],
   "source": [
    "N_ANGLE_BINS = 40\n",
    "BIN_SIZE = 360 // N_ANGLE_BINS\n",
    "LEG_LENGTH = 25\n",
    "\n",
    "def get_contour_pixels(bw_image):\n",
    "    contours, _= cv2.findContours(\n",
    "        bw_image, cv2.RETR_TREE, \n",
    "        cv2.CHAIN_APPROX_NONE\n",
    "        ) \n",
    "    # contours = imutils.grab_contours(contours)\n",
    "    contours = sorted(contours, key=cv2.contourArea, reverse=True)[1:]\n",
    "    \n",
    "    img2 = bw_image.copy()[:,:,np.newaxis]\n",
    "    img2 = np.concatenate([img2, img2, img2], axis = 2)\n",
    "    \n",
    "    # if self.show_images:\n",
    "    #     for cnt in contours : \n",
    "    #         cv2.drawContours(img2, [cnt], 0, (255, 0, 0), 1)  \n",
    "            \n",
    "    #     plt.imshow(img2, cmap='gray')\n",
    "    return contours\n",
    "\n",
    "def get_hinge_features(bw_image):\n",
    "    # if self.is_binary:\n",
    "    #     bw_image, _ = self.preprocess_binary_image(img_file, self.sharpness_factor, self.bordersize)\n",
    "    # else:\n",
    "    #     bw_image, _ = self.preprocess_image(img_file, self.sharpness_factor, self.bordersize)\n",
    "    \n",
    "    contours = get_contour_pixels(bw_image)\n",
    "    \n",
    "    hist = np.zeros((N_ANGLE_BINS, N_ANGLE_BINS))\n",
    "        \n",
    "    # print([len(cnt) for cnt in contours])\n",
    "    for cnt in contours:\n",
    "        n_pixels = len(cnt)\n",
    "        if n_pixels <= LEG_LENGTH:\n",
    "            continue\n",
    "        \n",
    "        points = np.array([point[0] for point in cnt])\n",
    "        xs, ys = points[:, 0], points[:, 1]\n",
    "        point_1s = np.array([cnt[(i + LEG_LENGTH) % n_pixels][0] for i in range(n_pixels)])\n",
    "        point_2s = np.array([cnt[(i - LEG_LENGTH) % n_pixels][0] for i in range(n_pixels)])\n",
    "        x1s, y1s = point_1s[:, 0], point_1s[:, 1]\n",
    "        x2s, y2s = point_2s[:, 0], point_2s[:, 1]\n",
    "        \n",
    "        phi_1s = np.degrees(np.arctan2(y1s - ys, x1s - xs) + np.pi)\n",
    "        phi_2s = np.degrees(np.arctan2(y2s - ys, x2s - xs) + np.pi)\n",
    "        \n",
    "        indices = np.where(phi_2s > phi_1s)[0]\n",
    "        \n",
    "        for i in indices:\n",
    "            phi1 = int(phi_1s[i] // BIN_SIZE) % N_ANGLE_BINS\n",
    "            phi2 = int(phi_2s[i] // BIN_SIZE) % N_ANGLE_BINS\n",
    "            hist[phi1, phi2] += 1\n",
    "            \n",
    "    normalised_hist = hist / np.sum(hist)\n",
    "    feature_vector = normalised_hist[np.triu_indices_from(normalised_hist, k = 1)]\n",
    "    \n",
    "    return feature_vector\n",
    "\n",
    "    "
   ]
  },
  {
   "cell_type": "code",
   "execution_count": null,
   "metadata": {},
   "outputs": [
    {
     "name": "stdout",
     "output_type": "stream",
     "text": [
      "125\n",
      "126\n",
      "127\n",
      "128\n",
      "129\n",
      "130\n",
      "131\n",
      "132\n"
     ]
    }
   ],
   "source": [
    "\n",
    "\n",
    "hinge_male=[]\n",
    "hinge_female=[]\n",
    "\n",
    "for i,img in enumerate(male_data):\n",
    "    try:\n",
    "        hinge_male.append(get_hinge_features(img))\n",
    "    except :\n",
    "        print(i)\n",
    "\n",
    "# for i,img in enumerate(female_data):\n",
    "#     try:\n",
    "#         hinge_female.append(get_hinge_features(img))\n",
    "#     except:\n",
    "#         print(i)\n",
    "\n",
    "hinge_male=np.array(hinge_male)\n",
    "# hinge_female=np.array(hinge_female)"
   ]
  },
  {
   "cell_type": "code",
   "execution_count": null,
   "metadata": {},
   "outputs": [],
   "source": [
    "X=np.concatenate((hinge_male,hinge_female),axis=0)\n",
    "\n",
    "Y=np.concatenate((np.ones(hinge_male.shape[0]),\n",
    "                np.zeros(hinge_female.shape[0])),\n",
    "                axis=0)"
   ]
  },
  {
   "cell_type": "code",
   "execution_count": null,
   "metadata": {},
   "outputs": [
    {
     "name": "stdout",
     "output_type": "stream",
     "text": [
      "(250, 780) (250,)\n"
     ]
    }
   ],
   "source": [
    "print(X.shape, Y.shape)"
   ]
  },
  {
   "cell_type": "code",
   "execution_count": null,
   "metadata": {},
   "outputs": [],
   "source": [
    "X,Y=sklearn.utils.shuffle(X,Y)"
   ]
  },
  {
   "cell_type": "code",
   "execution_count": null,
   "metadata": {},
   "outputs": [],
   "source": [
    "# X_train=X[:200]\n",
    "# Y_train=Y[:200]\n",
    "\n",
    "# X_test=X[200:]\n",
    "# Y_test=Y[200:]\n",
    "\n",
    "X_train, X_test, y_train, y_test = train_test_split(X, Y, test_size=0.2,random_state=109) # 70% training and 30% test\n"
   ]
  },
  {
   "cell_type": "code",
   "execution_count": null,
   "metadata": {},
   "outputs": [
    {
     "name": "stdout",
     "output_type": "stream",
     "text": [
      "(200, 780) (50, 780) (200,) (50,)\n"
     ]
    }
   ],
   "source": [
    "print(X_train.shape, X_test.shape, y_train.shape, y_test.shape)"
   ]
  },
  {
   "cell_type": "code",
   "execution_count": null,
   "metadata": {},
   "outputs": [
    {
     "name": "stdout",
     "output_type": "stream",
     "text": [
      "[LibSVM]..*.*\n",
      "optimization finished, #iter = 642\n"
     ]
    },
    {
     "data": {
      "text/plain": [
       "SVC(C=10, verbose=True)"
      ]
     },
     "execution_count": 51,
     "metadata": {},
     "output_type": "execute_result"
    },
    {
     "name": "stdout",
     "output_type": "stream",
     "text": [
      "obj = -273.733871, rho = 0.797691\n",
      "nSV = 171, nBSV = 3\n",
      "Total nSV = 171\n"
     ]
    }
   ],
   "source": [
    "clf = svm.SVC(kernel='rbf', verbose=True, C=10)\n",
    "\n",
    "clf.fit(X_train, y_train)\n"
   ]
  },
  {
   "cell_type": "code",
   "execution_count": null,
   "metadata": {},
   "outputs": [],
   "source": [
    "\n",
    "y_pred = clf.predict(X_test)"
   ]
  },
  {
   "cell_type": "code",
   "execution_count": null,
   "metadata": {},
   "outputs": [
    {
     "name": "stdout",
     "output_type": "stream",
     "text": [
      "Accuracy: 0.9\n"
     ]
    }
   ],
   "source": [
    "\n",
    "# Model Accuracy: how often is the classifier correct?\n",
    "print(\"Accuracy:\",metrics.accuracy_score(y_test, y_pred))"
   ]
  },
  {
   "cell_type": "code",
   "execution_count": null,
   "metadata": {},
   "outputs": [
    {
     "name": "stdout",
     "output_type": "stream",
     "text": [
      "Precision: 0.8461538461538461\n",
      "Recall: 0.9565217391304348\n"
     ]
    }
   ],
   "source": [
    "\n",
    "# Model Precision: what percentage of positive tuples are labeled as such?\n",
    "print(\"Precision:\",metrics.precision_score(y_test, y_pred))\n",
    "\n",
    "# Model Recall: what percentage of positive tuples are labelled as such?\n",
    "print(\"Recall:\",metrics.recall_score(y_test, y_pred))"
   ]
  }
 ],
 "metadata": {
  "interpreter": {
   "hash": "16eaf64d804c64982ecaa3d552fe6459f2afbedbd70923f4efe6f78d1fdb2db7"
  },
  "kernelspec": {
   "display_name": "Python 3.7.4 ('base')",
   "language": "python",
   "name": "python3"
  },
  "language_info": {
   "codemirror_mode": {
    "name": "ipython",
    "version": 3
   },
   "file_extension": ".py",
   "mimetype": "text/x-python",
   "name": "python",
   "nbconvert_exporter": "python",
   "pygments_lexer": "ipython3",
   "version": "3.7.4"
  },
  "orig_nbformat": 4
 },
 "nbformat": 4,
 "nbformat_minor": 2
}
