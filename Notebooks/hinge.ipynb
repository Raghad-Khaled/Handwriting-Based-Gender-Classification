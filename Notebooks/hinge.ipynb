{
 "cells": [
  {
   "cell_type": "code",
   "execution_count": 1,
   "metadata": {},
   "outputs": [
    {
     "name": "stderr",
     "output_type": "stream",
     "text": [
      "/home/mohamed/.local/lib/python3.8/site-packages/skimage/io/manage_plugins.py:23: UserWarning: Your installed pillow version is < 8.1.2. Several security issues (CVE-2021-27921, CVE-2021-25290, CVE-2021-25291, CVE-2021-25293, and more) have been fixed in pillow 8.1.2 or higher. We recommend to upgrade this library.\n",
      "  from .collection import imread_collection_wrapper\n"
     ]
    }
   ],
   "source": [
    "import glob\n",
    "import skimage.io as io\n",
    "import numpy as np\n",
    "#import commonfunctions as cf\n",
    "import sklearn\n",
    "from skimage.feature import hog\n",
    "from sklearn.model_selection import train_test_split, cross_val_score, cross_val_predict, RandomizedSearchCV\n",
    "from sklearn import svm\n",
    "import matplotlib.pyplot as plt\n",
    "from skimage.transform import rescale, resize, downscale_local_mean\n",
    "from sklearn import metrics\n",
    "from sklearn.preprocessing import MinMaxScaler\n",
    "\n",
    "import pickle\n",
    "import cv2\n",
    "import random\n",
    "import os\n",
    "\n",
    "from PIL import Image, ImageEnhance\n",
    "\n",
<<<<<<< Updated upstream
=======
    "\n",
    "\n",
    "from PIL import Image, ImageEnhance\n",
    "import cv2\n",
    "import matplotlib.pyplot as plt\n",
    "import numpy as np\n",
    "\n",
    "\n",
>>>>>>> Stashed changes
    "import argparse\n",
    "from datetime import datetime\n",
<<<<<<< Updated upstream
    "# from sklearn.metrics import classification_report, confusion_matrix\n",
    "# from sklearn.svm import SVC\n",
    "# from sklearn.metrics import *\n",
=======
    "from sklearn.preprocessing import MinMaxScaler\n",
    "from sklearn.metrics import classification_report, confusion_matrix\n",
    "from sklearn.svm import SVC\n",
    "from sklearn.model_selection import cross_val_score, cross_val_predict, RandomizedSearchCV\n",
    "from sklearn.metrics import *\n",
    "from sklearn.decomposition import PCA\n",
    "\n",
>>>>>>> Stashed changes
    "\n"
   ]
  },
  {
   "cell_type": "code",
   "execution_count": 2,
   "metadata": {},
   "outputs": [
    {
     "ename": "EOFError",
     "evalue": "Ran out of input",
     "output_type": "error",
     "traceback": [
      "\u001b[1;31m---------------------------------------------------------------------------\u001b[0m",
      "\u001b[1;31mEOFError\u001b[0m                                  Traceback (most recent call last)",
      "\u001b[1;32m<ipython-input-2-829892828480>\u001b[0m in \u001b[0;36m<module>\u001b[1;34m\u001b[0m\n\u001b[0;32m      3\u001b[0m '''\n\u001b[0;32m      4\u001b[0m \u001b[1;33m\u001b[0m\u001b[0m\n\u001b[1;32m----> 5\u001b[1;33m \u001b[0mmale_data\u001b[0m\u001b[1;33m=\u001b[0m\u001b[0mnp\u001b[0m\u001b[1;33m.\u001b[0m\u001b[0mload\u001b[0m\u001b[1;33m(\u001b[0m\u001b[1;34m'male_data.npy'\u001b[0m\u001b[1;33m,\u001b[0m\u001b[0mallow_pickle\u001b[0m\u001b[1;33m=\u001b[0m\u001b[1;32mTrue\u001b[0m\u001b[1;33m)\u001b[0m\u001b[1;33m\u001b[0m\u001b[1;33m\u001b[0m\u001b[0m\n\u001b[0m\u001b[0;32m      6\u001b[0m \u001b[1;31m# female_data=np.load('female_data.npy',allow_pickle=True)\u001b[0m\u001b[1;33m\u001b[0m\u001b[1;33m\u001b[0m\u001b[1;33m\u001b[0m\u001b[0m\n",
      "\u001b[1;32mc:\\Users\\Nada\\Anaconda3\\lib\\site-packages\\numpy\\lib\\npyio.py\u001b[0m in \u001b[0;36mload\u001b[1;34m(file, mmap_mode, allow_pickle, fix_imports, encoding)\u001b[0m\n\u001b[0;32m    445\u001b[0m             \u001b[1;32melse\u001b[0m\u001b[1;33m:\u001b[0m\u001b[1;33m\u001b[0m\u001b[1;33m\u001b[0m\u001b[0m\n\u001b[0;32m    446\u001b[0m                 return format.read_array(fid, allow_pickle=allow_pickle,\n\u001b[1;32m--> 447\u001b[1;33m                                          pickle_kwargs=pickle_kwargs)\n\u001b[0m\u001b[0;32m    448\u001b[0m         \u001b[1;32melse\u001b[0m\u001b[1;33m:\u001b[0m\u001b[1;33m\u001b[0m\u001b[1;33m\u001b[0m\u001b[0m\n\u001b[0;32m    449\u001b[0m             \u001b[1;31m# Try a pickle\u001b[0m\u001b[1;33m\u001b[0m\u001b[1;33m\u001b[0m\u001b[1;33m\u001b[0m\u001b[0m\n",
      "\u001b[1;32mc:\\Users\\Nada\\Anaconda3\\lib\\site-packages\\numpy\\lib\\format.py\u001b[0m in \u001b[0;36mread_array\u001b[1;34m(fp, allow_pickle, pickle_kwargs)\u001b[0m\n\u001b[0;32m    699\u001b[0m             \u001b[0mpickle_kwargs\u001b[0m \u001b[1;33m=\u001b[0m \u001b[1;33m{\u001b[0m\u001b[1;33m}\u001b[0m\u001b[1;33m\u001b[0m\u001b[1;33m\u001b[0m\u001b[0m\n\u001b[0;32m    700\u001b[0m         \u001b[1;32mtry\u001b[0m\u001b[1;33m:\u001b[0m\u001b[1;33m\u001b[0m\u001b[1;33m\u001b[0m\u001b[0m\n\u001b[1;32m--> 701\u001b[1;33m             \u001b[0marray\u001b[0m \u001b[1;33m=\u001b[0m \u001b[0mpickle\u001b[0m\u001b[1;33m.\u001b[0m\u001b[0mload\u001b[0m\u001b[1;33m(\u001b[0m\u001b[0mfp\u001b[0m\u001b[1;33m,\u001b[0m \u001b[1;33m**\u001b[0m\u001b[0mpickle_kwargs\u001b[0m\u001b[1;33m)\u001b[0m\u001b[1;33m\u001b[0m\u001b[1;33m\u001b[0m\u001b[0m\n\u001b[0m\u001b[0;32m    702\u001b[0m         \u001b[1;32mexcept\u001b[0m \u001b[0mUnicodeError\u001b[0m \u001b[1;32mas\u001b[0m \u001b[0merr\u001b[0m\u001b[1;33m:\u001b[0m\u001b[1;33m\u001b[0m\u001b[1;33m\u001b[0m\u001b[0m\n\u001b[0;32m    703\u001b[0m             \u001b[1;32mif\u001b[0m \u001b[0msys\u001b[0m\u001b[1;33m.\u001b[0m\u001b[0mversion_info\u001b[0m\u001b[1;33m[\u001b[0m\u001b[1;36m0\u001b[0m\u001b[1;33m]\u001b[0m \u001b[1;33m>=\u001b[0m \u001b[1;36m3\u001b[0m\u001b[1;33m:\u001b[0m\u001b[1;33m\u001b[0m\u001b[1;33m\u001b[0m\u001b[0m\n",
      "\u001b[1;31mEOFError\u001b[0m: Ran out of input"
     ]
    }
   ],
   "source": [
    "'''\n",
    "if you want to load the data again to work with them\n",
    "'''\n",
    "\n",
<<<<<<< Updated upstream
    "male_data=np.load('male_data.npy',allow_pickle=True)\n",
    "# female_data=np.load('female_data.npy',allow_pickle=True)"
=======
    "male_data=np.load('male_data_small.npy',allow_pickle=True)\n",
    "female_data=np.load('female_data_small.npy',allow_pickle=True)"
>>>>>>> Stashed changes
   ]
  },
  {
   "cell_type": "code",
   "execution_count": null,
   "metadata": {},
   "outputs": [
    {
     "name": "stdout",
     "output_type": "stream",
     "text": [
      "(232, 1420, 1000)\n",
      "(1420, 1000)\n"
     ]
    },
    {
     "data": {
      "text/plain": [
       "<matplotlib.image.AxesImage at 0x7fe92959afa0>"
      ]
     },
     "execution_count": 3,
     "metadata": {},
     "output_type": "execute_result"
    },
    {
     "data": {
      "image/png": "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",
      "text/plain": [
       "<Figure size 432x288 with 1 Axes>"
      ]
     },
     "metadata": {
      "needs_background": "light"
     },
     "output_type": "display_data"
    }
   ],
   "source": [
<<<<<<< Updated upstream
    "print(male_data[0].shape)\n",
=======
    "print(male_data.shape)\n",
    "print(female_data[0].shape)\n",
>>>>>>> Stashed changes
    "plt.imshow(male_data[0],cmap='gray')"
   ]
  },
  {
   "cell_type": "code",
   "execution_count": null,
   "metadata": {},
   "outputs": [],
<<<<<<< Updated upstream
=======
   "source": []
  },
  {
   "cell_type": "code",
   "execution_count": 4,
   "metadata": {},
   "outputs": [
    {
     "data": {
      "image/png": "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",
      "text/plain": [
       "<Figure size 432x288 with 1 Axes>"
      ]
     },
     "metadata": {
      "needs_background": "light"
     },
     "output_type": "display_data"
    }
   ],
>>>>>>> Stashed changes
   "source": [
    "\n",
    "for i,img in enumerate(male_data):\n",
    "    k=5\n",
    "    wshape=(100*k,142*k)\n",
    "\n",
    "    temp=cv2.resize(img,wshape)\n",
    "    plt.imshow(temp,cmap='gray')\n",
    "    if(i==2):\n",
    "        break"
   ]
  },
  {
   "cell_type": "code",
   "execution_count": null,
   "metadata": {},
   "outputs": [],
   "source": [
    "# for i,img in enumerate(female_data):\n",
    "#     k=5\n",
    "#     wshape=(100*k,142*k)\n",
    "\n",
    "#     female_data[i]=cv2.resize(img,wshape)"
   ]
  },
  {
   "cell_type": "code",
   "execution_count": null,
   "metadata": {},
   "outputs": [
    {
     "data": {
      "text/plain": [
       "True"
      ]
     },
     "execution_count": 6,
     "metadata": {},
     "output_type": "execute_result"
    },
    {
     "data": {
      "image/png": "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",
      "text/plain": [
       "<Figure size 432x288 with 1 Axes>"
      ]
     },
     "metadata": {
      "needs_background": "light"
     },
     "output_type": "display_data"
    }
   ],
   "source": [
    "plt.imshow(male_data[0],cmap='gray')\n",
    "cv2.imwrite(\"lol.jpg\",male_data[0])"
   ]
  },
  {
   "cell_type": "code",
   "execution_count": null,
   "metadata": {},
   "outputs": [],
   "source": [
    "\n",
    "\n",
    "N_ANGLE_BINS = 40\n",
    "BIN_SIZE = 360 // N_ANGLE_BINS\n",
    "LEG_LENGTH = 25\n",
    "\n",
    "def get_contour_pixels(bw_image):\n",
    "    contours, _= cv2.findContours(\n",
    "        bw_image, cv2.RETR_TREE, \n",
    "        cv2.CHAIN_APPROX_NONE\n",
    "        ) \n",
    "    # contours = imutils.grab_contours(contours)\n",
    "    contours = sorted(contours, key=cv2.contourArea, reverse=True)[1:]\n",
    "    \n",
    "    img2 = bw_image.copy()[:,:,np.newaxis]\n",
    "    img2 = np.concatenate([img2, img2, img2], axis = 2)\n",
    "    \n",
    "    # if self.show_images:\n",
    "    #     for cnt in contours : \n",
    "    #         cv2.drawContours(img2, [cnt], 0, (255, 0, 0), 1)  \n",
    "            \n",
    "    #     plt.imshow(img2, cmap='gray')\n",
    "    return contours\n",
    "\n",
    "def get_hinge_features(bw_image):\n",
    "    # if self.is_binary:\n",
    "    #     bw_image, _ = self.preprocess_binary_image(img_file, self.sharpness_factor, self.bordersize)\n",
    "    # else:\n",
    "    #     bw_image, _ = self.preprocess_image(img_file, self.sharpness_factor, self.bordersize)\n",
    "    \n",
    "    contours = get_contour_pixels(bw_image)\n",
    "    \n",
    "    hist = np.zeros((N_ANGLE_BINS, N_ANGLE_BINS))\n",
    "        \n",
    "    # print([len(cnt) for cnt in contours])\n",
    "    for cnt in contours:\n",
    "        n_pixels = len(cnt)\n",
    "        if n_pixels <= LEG_LENGTH:\n",
    "            continue\n",
    "        \n",
    "        points = np.array([point[0] for point in cnt])\n",
    "        xs, ys = points[:, 0], points[:, 1]\n",
    "        point_1s = np.array([cnt[(i + LEG_LENGTH) % n_pixels][0] for i in range(n_pixels)])\n",
    "        point_2s = np.array([cnt[(i - LEG_LENGTH) % n_pixels][0] for i in range(n_pixels)])\n",
    "        x1s, y1s = point_1s[:, 0], point_1s[:, 1]\n",
    "        x2s, y2s = point_2s[:, 0], point_2s[:, 1]\n",
    "        \n",
    "        phi_1s = np.degrees(np.arctan2(y1s - ys, x1s - xs) + np.pi)\n",
    "        phi_2s = np.degrees(np.arctan2(y2s - ys, x2s - xs) + np.pi)\n",
    "        \n",
    "        indices = np.where(phi_2s > phi_1s)[0]\n",
    "        \n",
    "        for i in indices:\n",
    "            phi1 = int(phi_1s[i] // BIN_SIZE) % N_ANGLE_BINS\n",
    "            phi2 = int(phi_2s[i] // BIN_SIZE) % N_ANGLE_BINS\n",
    "            hist[phi1, phi2] += 1\n",
    "            \n",
    "    normalised_hist = hist / np.sum(hist)\n",
    "    feature_vector = normalised_hist[np.triu_indices_from(normalised_hist, k = 1)]\n",
    "    \n",
    "    return feature_vector\n",
    "\n",
    "    "
   ]
  },
  {
   "cell_type": "code",
<<<<<<< Updated upstream
   "execution_count": null,
=======
   "execution_count": 8,
>>>>>>> Stashed changes
   "metadata": {},
   "outputs": [],
   "source": [
    "\n",
    "\n",
    "hinge_male=[]\n",
    "hinge_female=[]\n",
    "\n",
    "for i,img in enumerate(male_data):\n",
    "    try:\n",
    "        hinge_male.append(get_hinge_features(img))\n",
    "    except :\n",
    "        print(i)\n",
    "\n",
    "# for i,img in enumerate(female_data):\n",
    "#     try:\n",
    "#         hinge_female.append(get_hinge_features(img))\n",
    "#     except:\n",
    "#         print(i)\n",
    "\n",
    "hinge_male=np.array(hinge_male)\n",
    "# hinge_female=np.array(hinge_female)"
   ]
  },
  {
   "cell_type": "code",
<<<<<<< Updated upstream
   "execution_count": null,
=======
   "execution_count": 9,
>>>>>>> Stashed changes
   "metadata": {},
   "outputs": [],
   "source": [
    "\n",
    "X=np.concatenate((hinge_male,hinge_female),axis=0)\n",
    "\n",
    "Y=np.concatenate((np.ones(hinge_male.shape[0]),\n",
    "                np.zeros(hinge_female.shape[0])),\n",
    "                axis=0)"
   ]
  },
  {
   "cell_type": "code",
<<<<<<< Updated upstream
   "execution_count": null,
=======
   "execution_count": 10,
>>>>>>> Stashed changes
   "metadata": {},
   "outputs": [
    {
     "name": "stdout",
     "output_type": "stream",
     "text": [
      "(780,)\n",
      "(363, 40) (363,)\n"
     ]
    }
   ],
   "source": [
    "pca=PCA(n_components=40)\n",
    "X=pca.fit_transform(X)\n",
    "print(hinge_male[0].shape)\n",
    "print(X.shape, Y.shape)\n"
   ]
  },
  {
   "cell_type": "code",
<<<<<<< Updated upstream
   "execution_count": null,
=======
   "execution_count": 11,
>>>>>>> Stashed changes
   "metadata": {},
   "outputs": [],
   "source": [
    "X,Y=sklearn.utils.shuffle(X,Y)"
   ]
  },
  {
   "cell_type": "code",
<<<<<<< Updated upstream
   "execution_count": null,
=======
   "execution_count": 12,
>>>>>>> Stashed changes
   "metadata": {},
   "outputs": [],
   "source": [
    "# X_train=X[:200]\n",
    "# Y_train=Y[:200]\n",
    "\n",
    "# X_test=X[200:]\n",
    "# Y_test=Y[200:]\n",
    "\n",
    "X_train, X_test, y_train, y_test = train_test_split(X, Y, test_size=0.2,random_state=109) # 70% training and 30% test\n"
   ]
  },
  {
   "cell_type": "code",
<<<<<<< Updated upstream
   "execution_count": null,
=======
   "execution_count": 13,
>>>>>>> Stashed changes
   "metadata": {},
   "outputs": [
    {
     "name": "stdout",
     "output_type": "stream",
     "text": [
      "(290, 40) (73, 40) (290,) (73,)\n"
     ]
    }
   ],
   "source": [
    "print(X_train.shape, X_test.shape, y_train.shape, y_test.shape)"
   ]
  },
  {
   "cell_type": "code",
<<<<<<< Updated upstream
   "execution_count": null,
=======
   "execution_count": 14,
>>>>>>> Stashed changes
   "metadata": {},
   "outputs": [
    {
     "name": "stdout",
     "output_type": "stream",
     "text": [
      "[LibSVM]..*.*\n",
      "optimization finished, #iter = 922\n",
      "obj = -336.681373, rho = 0.574788\n",
      "nSV = 177, nBSV = 10\n",
      "Total nSV = 177\n"
     ]
    },
    {
     "data": {
      "text/plain": [
       "SVC(C=10, verbose=True)"
      ]
     },
     "execution_count": 14,
     "metadata": {},
     "output_type": "execute_result"
    }
   ],
   "source": [
    "clf = svm.SVC(kernel='rbf', verbose=True, C=10)\n",
    "\n",
    "clf.fit(X_train, y_train)\n"
   ]
  },
  {
   "cell_type": "code",
<<<<<<< Updated upstream
   "execution_count": null,
=======
   "execution_count": 15,
>>>>>>> Stashed changes
   "metadata": {},
   "outputs": [],
   "source": [
    "\n",
    "y_pred = clf.predict(X_test)"
   ]
  },
  {
   "cell_type": "code",
<<<<<<< Updated upstream
   "execution_count": null,
=======
   "execution_count": 16,
>>>>>>> Stashed changes
   "metadata": {},
   "outputs": [
    {
     "name": "stdout",
     "output_type": "stream",
     "text": [
      "Accuracy: 0.821917808219178\n"
     ]
    }
   ],
   "source": [
    "\n",
    "# Model Accuracy: how often is the classifier correct?\n",
    "print(\"Accuracy:\",metrics.accuracy_score(y_test, y_pred))"
   ]
  },
  {
   "cell_type": "code",
<<<<<<< Updated upstream
   "execution_count": null,
=======
   "execution_count": 17,
>>>>>>> Stashed changes
   "metadata": {},
   "outputs": [
    {
     "name": "stdout",
     "output_type": "stream",
     "text": [
      "Precision: 0.8297872340425532\n",
      "Recall: 0.8863636363636364\n"
     ]
    }
   ],
   "source": [
    "\n",
    "# Model Precision: what percentage of positive tuples are labeled as such?\n",
    "print(\"Precision:\",metrics.precision_score(y_test, y_pred))\n",
    "\n",
    "# Model Recall: what percentage of positive tuples are labelled as such?\n",
    "print(\"Recall:\",metrics.recall_score(y_test, y_pred))"
   ]
<<<<<<< Updated upstream
=======
  },
  {
   "cell_type": "code",
   "execution_count": null,
   "metadata": {},
   "outputs": [],
   "source": []
  },
  {
   "cell_type": "code",
   "execution_count": null,
   "metadata": {},
   "outputs": [],
   "source": []
  },
  {
   "cell_type": "code",
   "execution_count": null,
   "metadata": {},
   "outputs": [],
   "source": []
  },
  {
   "cell_type": "code",
   "execution_count": 3,
   "metadata": {},
   "outputs": [],
   "source": [
    "lol=np.ones(100)"
   ]
  },
  {
   "cell_type": "code",
   "execution_count": 4,
   "metadata": {},
   "outputs": [],
   "source": [
    "lol=np.reshape(lol,(100,1))"
   ]
  },
  {
   "cell_type": "code",
   "execution_count": 5,
   "metadata": {},
   "outputs": [
    {
     "name": "stdout",
     "output_type": "stream",
     "text": [
      "(100, 1)\n"
     ]
    }
   ],
   "source": [
    "print(lol.shape)"
   ]
  },
  {
   "cell_type": "code",
   "execution_count": 6,
   "metadata": {},
   "outputs": [
    {
     "name": "stdout",
     "output_type": "stream",
     "text": [
      "[[1.]\n",
      " [1.]\n",
      " [1.]\n",
      " [1.]\n",
      " [1.]\n",
      " [1.]\n",
      " [1.]\n",
      " [1.]\n",
      " [1.]\n",
      " [1.]\n",
      " [1.]\n",
      " [1.]\n",
      " [1.]\n",
      " [1.]\n",
      " [1.]\n",
      " [1.]\n",
      " [1.]\n",
      " [1.]\n",
      " [1.]\n",
      " [1.]\n",
      " [1.]\n",
      " [1.]\n",
      " [1.]\n",
      " [1.]\n",
      " [1.]\n",
      " [1.]\n",
      " [1.]\n",
      " [1.]\n",
      " [1.]\n",
      " [1.]\n",
      " [1.]\n",
      " [1.]\n",
      " [1.]\n",
      " [1.]\n",
      " [1.]\n",
      " [1.]\n",
      " [1.]\n",
      " [1.]\n",
      " [1.]\n",
      " [1.]\n",
      " [1.]\n",
      " [1.]\n",
      " [1.]\n",
      " [1.]\n",
      " [1.]\n",
      " [1.]\n",
      " [1.]\n",
      " [1.]\n",
      " [1.]\n",
      " [1.]\n",
      " [1.]\n",
      " [1.]\n",
      " [1.]\n",
      " [1.]\n",
      " [1.]\n",
      " [1.]\n",
      " [1.]\n",
      " [1.]\n",
      " [1.]\n",
      " [1.]\n",
      " [1.]\n",
      " [1.]\n",
      " [1.]\n",
      " [1.]\n",
      " [1.]\n",
      " [1.]\n",
      " [1.]\n",
      " [1.]\n",
      " [1.]\n",
      " [1.]\n",
      " [1.]\n",
      " [1.]\n",
      " [1.]\n",
      " [1.]\n",
      " [1.]\n",
      " [1.]\n",
      " [1.]\n",
      " [1.]\n",
      " [1.]\n",
      " [1.]\n",
      " [1.]\n",
      " [1.]\n",
      " [1.]\n",
      " [1.]\n",
      " [1.]\n",
      " [1.]\n",
      " [1.]\n",
      " [1.]\n",
      " [1.]\n",
      " [1.]\n",
      " [1.]\n",
      " [1.]\n",
      " [1.]\n",
      " [1.]\n",
      " [1.]\n",
      " [1.]\n",
      " [1.]\n",
      " [1.]\n",
      " [1.]\n",
      " [1.]]\n"
     ]
    }
   ],
   "source": [
    "print(lol)"
   ]
  },
  {
   "cell_type": "code",
   "execution_count": null,
   "metadata": {},
   "outputs": [],
   "source": []
>>>>>>> Stashed changes
  }
 ],
 "metadata": {
  "interpreter": {
   "hash": "16eaf64d804c64982ecaa3d552fe6459f2afbedbd70923f4efe6f78d1fdb2db7"
  },
  "kernelspec": {
   "display_name": "Python 3.7.4 ('base')",
   "language": "python",
   "name": "python3"
  },
  "language_info": {
   "codemirror_mode": {
    "name": "ipython",
    "version": 3
   },
   "file_extension": ".py",
   "mimetype": "text/x-python",
   "name": "python",
   "nbconvert_exporter": "python",
   "pygments_lexer": "ipython3",
   "version": "3.7.4"
  },
  "orig_nbformat": 4
 },
 "nbformat": 4,
 "nbformat_minor": 2
}
