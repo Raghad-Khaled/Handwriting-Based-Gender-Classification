{
 "cells": [
  {
   "cell_type": "code",
   "execution_count": 22,
   "metadata": {},
   "outputs": [],
   "source": [
    "import glob\n",
    "import skimage.io as io\n",
    "import numpy as np\n",
    "#import commonfunctions as cf\n",
    "import sklearn\n",
    "from skimage.feature import hog\n",
    "from sklearn.model_selection import train_test_split, cross_val_score\n",
    "from sklearn import svm\n",
    "import matplotlib.pyplot as plt\n",
    "from skimage.transform import rescale, resize, downscale_local_mean\n",
    "from sklearn import metrics\n",
    "from sklearn.preprocessing import MinMaxScaler\n",
    "import pickle\n",
    "import cv2\n",
    "import random\n",
    "import os\n",
    "from PIL import Image, ImageEnhance\n",
    "from PIL import Image, ImageEnhance\n",
    "import cv2\n",
    "import matplotlib.pyplot as plt\n",
    "import numpy as np\n",
    "import argparse\n",
    "import os\n",
    "from datetime import datetime\n",
    "from sklearn.preprocessing import MinMaxScaler\n",
    "from sklearn.metrics import classification_report, confusion_matrix\n",
    "from sklearn.svm import SVC\n",
    "from sklearn.model_selection import cross_val_score, cross_val_predict, RandomizedSearchCV\n",
    "from sklearn.metrics import *\n",
    "from sklearn.decomposition import PCA\n",
    "import pickle\n",
    "import pandas as pd\n",
    "\n"
   ]
  },
  {
   "cell_type": "code",
   "execution_count": 23,
   "metadata": {},
   "outputs": [],
   "source": [
    "male_data=np.load('male_data_small.npy',allow_pickle=True)\n",
    "female_data = np.load('female_data_small.npy',allow_pickle=True)\n",
    "\n",
    "male_data_icdar=np.load('male_data_icdar.npy',allow_pickle=True)\n",
    "female_data_icdar=np.load('female_data_icdar.npy',allow_pickle=True)\n"
   ]
  },
  {
   "cell_type": "code",
   "execution_count": 24,
   "metadata": {},
   "outputs": [
    {
     "name": "stdout",
     "output_type": "stream",
     "text": [
      "(418, 1420, 1000)\n",
      "(417, 1420, 1000)\n"
     ]
    }
   ],
   "source": [
    "\n",
    "male_data_combined=np.concatenate((male_data,male_data_icdar[:186]))\n",
    "female_data_combined=np.concatenate((female_data,female_data_icdar))\n",
    "print(male_data_combined.shape)\n",
    "print(female_data_combined.shape)\n"
   ]
  },
  {
   "cell_type": "code",
   "execution_count": 25,
   "metadata": {},
   "outputs": [],
   "source": [
    "from skimage import feature, exposure\n",
    "\n",
    "def HistogramofOrientedGradients(image):\n",
    "    resized_img = resize(image, (64, 128))\n",
    "    fd, hog_image = feature.hog(resized_img, orientations=9, pixels_per_cell=(8, 8),\n",
    "                    cells_per_block=(2, 2), visualize=True)\n",
    "    \n",
    "    return (np.array(fd)).flatten()\n",
    "\n"
   ]
  },
  {
   "cell_type": "code",
   "execution_count": 26,
   "metadata": {},
   "outputs": [],
   "source": [
    "\n",
    "\n",
    "N_ANGLE_BINS = 40\n",
    "BIN_SIZE = 360 // N_ANGLE_BINS\n",
    "LEG_LENGTH = 25\n",
    "\n",
    "def get_contour_pixels(bw_image):\n",
    "    contours, _= cv2.findContours(\n",
    "        bw_image, cv2.RETR_TREE, \n",
    "        cv2.CHAIN_APPROX_NONE\n",
    "        ) \n",
    "    # contours = imutils.grab_contours(contours)\n",
    "    contours = sorted(contours, key=cv2.contourArea, reverse=True)[1:]\n",
    "    \n",
    "    img2 = bw_image.copy()[:,:,np.newaxis]\n",
    "    img2 = np.concatenate([img2, img2, img2], axis = 2)\n",
    "    \n",
    "    # if self.show_images:\n",
    "    #     for cnt in contours : \n",
    "    #         cv2.drawContours(img2, [cnt], 0, (255, 0, 0), 1)  \n",
    "            \n",
    "    #     plt.imshow(img2, cmap='gray')\n",
    "    return contours\n",
    "\n",
    "def get_hinge_features(bw_image):\n",
    "    # if self.is_binary:\n",
    "    #     bw_image, _ = self.preprocess_binary_image(img_file, self.sharpness_factor, self.bordersize)\n",
    "    # else:\n",
    "    #     bw_image, _ = self.preprocess_image(img_file, self.sharpness_factor, self.bordersize)\n",
    "    \n",
    "    contours = get_contour_pixels(bw_image)\n",
    "    \n",
    "    hist = np.zeros((N_ANGLE_BINS, N_ANGLE_BINS))\n",
    "        \n",
    "    # print([len(cnt) for cnt in contours])\n",
    "    for cnt in contours:\n",
    "        n_pixels = len(cnt)\n",
    "        if n_pixels <= LEG_LENGTH:\n",
    "            continue\n",
    "        \n",
    "        points = np.array([point[0] for point in cnt])\n",
    "        xs, ys = points[:, 0], points[:, 1]\n",
    "        point_1s = np.array([cnt[(i + LEG_LENGTH) % n_pixels][0] for i in range(n_pixels)])\n",
    "        point_2s = np.array([cnt[(i - LEG_LENGTH) % n_pixels][0] for i in range(n_pixels)])\n",
    "        x1s, y1s = point_1s[:, 0], point_1s[:, 1]\n",
    "        x2s, y2s = point_2s[:, 0], point_2s[:, 1]\n",
    "        \n",
    "        phi_1s = np.degrees(np.arctan2(y1s - ys, x1s - xs) + np.pi)\n",
    "        phi_2s = np.degrees(np.arctan2(y2s - ys, x2s - xs) + np.pi)\n",
    "        \n",
    "        indices = np.where(phi_2s > phi_1s)[0]\n",
    "        \n",
    "        for i in indices:\n",
    "            phi1 = int(phi_1s[i] // BIN_SIZE) % N_ANGLE_BINS\n",
    "            phi2 = int(phi_2s[i] // BIN_SIZE) % N_ANGLE_BINS\n",
    "            hist[phi1, phi2] += 1\n",
    "            \n",
    "    normalised_hist = hist / np.sum(hist)\n",
    "    feature_vector = normalised_hist[np.triu_indices_from(normalised_hist, k = 1)]\n",
    "    \n",
    "    return feature_vector\n",
    "\n",
    "\n",
    "#Initialization:\n",
    "N_RHO_BINS = 7\n",
    "N_ANGLE_BINS = 12\n",
    "N_BINS = N_RHO_BINS * N_ANGLE_BINS\n",
    "BIN_SIZE = 360 // N_ANGLE_BINS\n",
    "R_INNER = 5.0\n",
    "R_OUTER = 35.0\n",
    "K_S = np.arange(3, 8)\n",
    "def get_cold_features(bw_image, approx_poly_factor = 0.01 , sharpness_factor = 10 , bordersize = 3):\n",
    "\n",
    "    #bw_image, _ = preprocess_image(img_file, sharpness_factor, bordersize)\n",
    "    contours = get_contour_pixels(bw_image)\n",
    "    \n",
    "    rho_bins_edges = np.log10(np.linspace(R_INNER, R_OUTER, N_RHO_BINS))\n",
    "    feature_vectors = np.zeros((len(K_S), N_BINS))\n",
    "    \n",
    "    for j, k in enumerate(K_S):\n",
    "        hist = np.zeros((N_RHO_BINS, N_ANGLE_BINS))\n",
    "        for cnt in contours:\n",
    "            epsilon = approx_poly_factor * cv2.arcLength(cnt,True)\n",
    "            cnt = cv2.approxPolyDP(cnt,epsilon,True)\n",
    "            n_pixels = len(cnt)\n",
    "            \n",
    "            point_1s = np.array([point[0] for point in cnt])\n",
    "            x1s, y1s = point_1s[:, 0], point_1s[:, 1]\n",
    "            point_2s = np.array([cnt[(i + k) % n_pixels][0] for i in range(n_pixels)])\n",
    "            x2s, y2s = point_2s[:, 0], point_2s[:, 1]\n",
    "            \n",
    "            thetas = np.degrees(np.arctan2(y2s - y1s, x2s - x1s) + np.pi)\n",
    "            rhos = np.sqrt((y2s - y1s) ** 2 + (x2s - x1s) ** 2)\n",
    "            if(rhos.all()):\n",
    "                rhos_log_space = np.log10(rhos)\n",
    "            else:\n",
    "                rhos_log_space = rhos\n",
    "            \n",
    "            quantized_rhos = np.zeros(rhos.shape, dtype=int)\n",
    "            for i in range(N_RHO_BINS):\n",
    "                quantized_rhos += (rhos_log_space < rho_bins_edges[i])\n",
    "                \n",
    "            for i, r_bin in enumerate(quantized_rhos):\n",
    "                theta_bin = int(thetas[i] // BIN_SIZE) % N_ANGLE_BINS\n",
    "                hist[r_bin - 1, theta_bin] += 1\n",
    "            \n",
    "        normalised_hist = hist / hist.sum()\n",
    "        feature_vectors[j] = normalised_hist.flatten()\n",
    "        \n",
    "    return feature_vectors.flatten()\n",
    "\n",
    "def get_hinge_with_cold(bw_image):\n",
    "    hinge=get_hinge_features(bw_image)\n",
    "    cold=get_cold_features(bw_image)\n",
    "    return np.concatenate([hinge, cold])\n",
    "    "
   ]
  },
  {
   "cell_type": "code",
   "execution_count": 27,
   "metadata": {},
   "outputs": [],
   "source": [
    "\n",
    "def make_model(male_data,female_data,get_feature,model_name,pca_flag=False,pca_number=50):\n",
    "    male_feature=[]\n",
    "    female_feature=[]\n",
    "    for i,img in enumerate(male_data):\n",
    "        male_feature.append(get_feature(img))\n",
    "\n",
    "    for i,img in enumerate(female_data):        \n",
    "        female_feature.append(get_feature(img))\n",
    "\n",
    "    \n",
    "    male_feature=np.array(male_feature)\n",
    "    female_feature=np.array(female_feature)\n",
    "\n",
    "    X=np.concatenate((male_feature,female_feature),axis=0)\n",
    "    Y=np.concatenate((np.ones(male_feature.shape[0]),\n",
    "                        np.zeros(female_feature.shape[0])),\n",
    "                        axis=0)\n",
    "    if pca_flag:\n",
    "        pca=PCA(n_components=pca_number)\n",
    "        X=pca.fit_transform(X)\n",
    "        pickle.dump(pca,open(model_name+'_pca','wb'))\n",
    "\n",
    "    \n",
    "    X,Y=sklearn.utils.shuffle(X,Y)\n",
    "    #X_train, X_test, y_train, y_test = train_test_split(X, Y, test_size=0.01,random_state=42) # 70% training and 30% test\n",
    "\n",
    "    model = svm.SVC(kernel='rbf', verbose=True, C=10,probability=True)\n",
    "\n",
    "    model.fit(X, Y)\n",
    "    \n",
    "    #y_pred_cold=model.predict(X_test)\n",
    "    #y_pred_prob_cold=model.predict_proba(X_test)\n",
    "    #print(y_pred_prob_cold)\n",
    "    #print(\"Accuracy:\",metrics.accuracy_score(y_test, y_pred_cold))\n",
    "    pickle.dump(model, open(model_name, 'wb'))\n",
    "\n",
    "    \n",
    "        "
   ]
  },
  {
   "cell_type": "code",
   "execution_count": 28,
   "metadata": {},
   "outputs": [
    {
     "name": "stdout",
     "output_type": "stream",
     "text": [
      "[LibSVM]..*.*\n",
      "optimization finished, #iter = 1040\n",
      "obj = -373.475037, rho = -0.619484\n",
      "nSV = 182, nBSV = 12\n",
      "Total nSV = 182\n",
      "..*.*\n",
      "optimization finished, #iter = 997\n",
      "obj = -337.836705, rho = -0.704244\n",
      "nSV = 192, nBSV = 7\n",
      "Total nSV = 192\n",
      "..*.*\n",
      "optimization finished, #iter = 973\n",
      "obj = -335.069918, rho = -0.844502\n",
      "nSV = 181, nBSV = 7\n",
      "Total nSV = 181\n",
      "..*.*\n",
      "optimization finished, #iter = 973\n",
      "obj = -356.399649, rho = -0.705373\n",
      "nSV = 178, nBSV = 10\n",
      "Total nSV = 178\n",
      "..*.*\n",
      "optimization finished, #iter = 982\n",
      "obj = -366.578345, rho = -0.545359\n",
      "nSV = 189, nBSV = 12\n",
      "Total nSV = 189\n",
      ".*..*\n",
      "optimization finished, #iter = 1111\n",
      "obj = -438.583188, rho = 0.728214\n",
      "nSV = 210, nBSV = 14\n",
      "Total nSV = 210\n"
     ]
    }
   ],
   "source": [
    "make_model(male_data,female_data,get_cold_features,\"cold\",True,50)"
   ]
  },
  {
   "cell_type": "code",
   "execution_count": 16,
   "metadata": {},
   "outputs": [
    {
     "name": "stdout",
     "output_type": "stream",
     "text": [
      "[LibSVM].*.*\n",
      "optimization finished, #iter = 717\n",
      "obj = -1216.622500, rho = -2.620886\n",
      "nSV = 195, nBSV = 123\n",
      "Total nSV = 195\n",
      ".*\n",
      "optimization finished, #iter = 568\n",
      "obj = -1184.358176, rho = -2.008217\n",
      "nSV = 187, nBSV = 125\n",
      "Total nSV = 187\n",
      ".*.*\n",
      "optimization finished, #iter = 846\n",
      "obj = -1107.545181, rho = -2.038007\n",
      "nSV = 186, nBSV = 106\n",
      "Total nSV = 186\n",
      ".*.*\n",
      "optimization finished, #iter = 821\n",
      "obj = -1214.044620, rho = -1.854121\n",
      "nSV = 198, nBSV = 118\n",
      "Total nSV = 198\n",
      ".*.*\n",
      "optimization finished, #iter = 711\n",
      "obj = -1181.604039, rho = -2.041304\n",
      "nSV = 189, nBSV = 119\n",
      "Total nSV = 189\n",
      ".*.*\n",
      "optimization finished, #iter = 893\n",
      "obj = -1478.424261, rho = 1.987140\n",
      "nSV = 232, nBSV = 153\n",
      "Total nSV = 232\n"
     ]
    }
   ],
   "source": [
    "make_model(male_data,female_data,get_hinge_features,\"hinge\",False)"
   ]
  },
  {
   "cell_type": "code",
   "execution_count": 17,
   "metadata": {},
   "outputs": [
    {
     "name": "stdout",
     "output_type": "stream",
     "text": [
      "[LibSVM].*.*\n",
      "optimization finished, #iter = 665\n",
      "obj = -249.693048, rho = -0.515540\n",
      "nSV = 276, nBSV = 0\n",
      "Total nSV = 276\n",
      ".*.*\n",
      "optimization finished, #iter = 636\n",
      "obj = -246.952474, rho = -0.621603\n",
      "nSV = 278, nBSV = 0\n",
      "Total nSV = 278\n",
      ".*.*\n",
      "optimization finished, #iter = 658\n",
      "obj = -257.898202, rho = -0.859037\n",
      "nSV = 277, nBSV = 0\n",
      "Total nSV = 277\n",
      ".*.*\n",
      "optimization finished, #iter = 663\n",
      "obj = -250.110807, rho = -0.656442\n",
      "nSV = 278, nBSV = 0\n",
      "Total nSV = 278\n",
      ".*.*\n",
      "optimization finished, #iter = 626\n",
      "obj = -244.142445, rho = -0.864131\n",
      "nSV = 270, nBSV = 0\n",
      "Total nSV = 270\n",
      ".*.*\n",
      "optimization finished, #iter = 810\n",
      "obj = -316.868343, rho = 0.767954\n",
      "nSV = 341, nBSV = 0\n",
      "Total nSV = 341\n"
     ]
    }
   ],
   "source": [
    "make_model(male_data,female_data, HistogramofOrientedGradients,\"hog\",False)"
   ]
  },
  {
   "cell_type": "code",
   "execution_count": 29,
   "metadata": {},
   "outputs": [
    {
     "name": "stdout",
     "output_type": "stream",
     "text": [
      "[LibSVM].*.*\n",
      "optimization finished, #iter = 838\n",
      "obj = -292.193995, rho = -0.657542\n",
      "nSV = 185, nBSV = 5\n",
      "Total nSV = 185\n",
      ".*.*\n",
      "optimization finished, #iter = 825\n",
      "obj = -292.809529, rho = -0.754919\n",
      "nSV = 182, nBSV = 6\n",
      "Total nSV = 182\n",
      ".*.*\n",
      "optimization finished, #iter = 829\n",
      "obj = -313.190821, rho = -0.750453\n",
      "nSV = 180, nBSV = 7\n",
      "Total nSV = 180\n",
      "..*.*\n",
      "optimization finished, #iter = 908\n",
      "obj = -301.533859, rho = -0.685267\n",
      "nSV = 194, nBSV = 4\n",
      "Total nSV = 194\n",
      "..*.*\n",
      "optimization finished, #iter = 914\n",
      "obj = -288.268875, rho = -0.550923\n",
      "nSV = 188, nBSV = 4\n",
      "Total nSV = 188\n",
      "..*.*\n",
      "optimization finished, #iter = 1093\n",
      "obj = -363.698825, rho = 0.742957\n",
      "nSV = 229, nBSV = 9\n",
      "Total nSV = 229\n"
     ]
    }
   ],
   "source": [
    "make_model(male_data,female_data,get_hinge_with_cold,\"hinge_with_cold\",True,70)"
   ]
  },
  {
   "cell_type": "code",
   "execution_count": 30,
   "metadata": {},
   "outputs": [
    {
     "name": "stdout",
     "output_type": "stream",
     "text": [
      "[LibSVM]...*.*\n",
      "optimization finished, #iter = 2873\n",
      "obj = -1691.579911, rho = -0.480778\n",
      "nSV = 456, nBSV = 117\n",
      "Total nSV = 456\n",
      "..*.*\n",
      "optimization finished, #iter = 2565\n",
      "obj = -1672.307732, rho = -0.761678\n",
      "nSV = 440, nBSV = 125\n",
      "Total nSV = 440\n",
      "..*.*\n",
      "optimization finished, #iter = 2637\n",
      "obj = -1585.621568, rho = -0.526492\n",
      "nSV = 436, nBSV = 113\n",
      "Total nSV = 436\n",
      "..*.*\n",
      "optimization finished, #iter = 2484\n",
      "obj = -1608.476493, rho = -0.799134\n",
      "nSV = 432, nBSV = 117\n",
      "Total nSV = 432\n",
      "..*.*\n",
      "optimization finished, #iter = 2633\n",
      "obj = -1614.327416, rho = -0.758440\n",
      "nSV = 442, nBSV = 120\n",
      "Total nSV = 442\n",
      "..*.*\n",
      "optimization finished, #iter = 3215\n",
      "obj = -2118.655778, rho = 0.676183\n",
      "nSV = 533, nBSV = 157\n",
      "Total nSV = 533\n"
     ]
    }
   ],
   "source": [
    "make_model(male_data_combined,female_data_combined,get_cold_features,\"cold_combined\",True,50)"
   ]
  },
  {
   "cell_type": "code",
   "execution_count": 25,
   "metadata": {},
   "outputs": [
    {
     "name": "stdout",
     "output_type": "stream",
     "text": [
      "[LibSVM].*.*\n",
      "optimization finished, #iter = 1787\n",
      "obj = -3400.675937, rho = -2.738917\n",
      "nSV = 470, nBSV = 344\n",
      "Total nSV = 470\n",
      ".*.*\n",
      "optimization finished, #iter = 1689\n",
      "obj = -3368.135728, rho = -2.326981\n",
      "nSV = 473, nBSV = 351\n",
      "Total nSV = 473\n",
      ".*.*\n",
      "optimization finished, #iter = 1521\n",
      "obj = -3380.725844, rho = -1.978955\n",
      "nSV = 465, nBSV = 346\n",
      "Total nSV = 465\n",
      ".*.*\n",
      "optimization finished, #iter = 1586\n",
      "obj = -3355.656825, rho = -2.074608\n",
      "nSV = 461, nBSV = 350\n",
      "Total nSV = 461\n",
      ".*.*\n",
      "optimization finished, #iter = 1635\n",
      "obj = -3274.664076, rho = -1.849740\n",
      "nSV = 453, nBSV = 331\n",
      "Total nSV = 453\n",
      ".*.*\n",
      "optimization finished, #iter = 2054\n",
      "obj = -4220.140859, rho = 2.242158\n",
      "nSV = 577, nBSV = 439\n",
      "Total nSV = 577\n"
     ]
    }
   ],
   "source": [
    "make_model(male_data_combined,female_data_combined,get_hinge_features,\"hinge_combined\",False)"
   ]
  },
  {
   "cell_type": "code",
   "execution_count": 26,
   "metadata": {},
   "outputs": [
    {
     "name": "stdout",
     "output_type": "stream",
     "text": [
      "[LibSVM].*.*\n",
      "optimization finished, #iter = 1698\n",
      "obj = -712.614730, rho = -0.756568\n",
      "nSV = 635, nBSV = 0\n",
      "Total nSV = 635\n",
      ".*.*\n",
      "optimization finished, #iter = 1752\n",
      "obj = -750.392186, rho = -0.878135\n",
      "nSV = 641, nBSV = 0\n",
      "Total nSV = 641\n",
      ".*.*\n",
      "optimization finished, #iter = 1733\n",
      "obj = -746.051461, rho = -1.117814\n",
      "nSV = 636, nBSV = 1\n",
      "Total nSV = 636\n",
      ".*.*\n",
      "optimization finished, #iter = 1798\n",
      "obj = -766.260864, rho = -0.718146\n",
      "nSV = 647, nBSV = 0\n",
      "Total nSV = 647\n",
      ".*.*\n",
      "optimization finished, #iter = 1712\n",
      "obj = -749.582123, rho = -1.043393\n",
      "nSV = 635, nBSV = 0\n",
      "Total nSV = 635\n",
      ".*.*\n",
      "optimization finished, #iter = 2220\n",
      "obj = -958.418907, rho = 1.092036\n",
      "nSV = 785, nBSV = 1\n",
      "Total nSV = 785\n"
     ]
    }
   ],
   "source": [
    "make_model(male_data_combined,female_data_combined, HistogramofOrientedGradients,\"hog_combined\",False)"
   ]
  },
  {
   "cell_type": "code",
   "execution_count": 31,
   "metadata": {},
   "outputs": [
    {
     "name": "stdout",
     "output_type": "stream",
     "text": [
      "[LibSVM]..*.*\n",
      "optimization finished, #iter = 2503\n",
      "obj = -1399.067212, rho = -0.766717\n",
      "nSV = 446, nBSV = 82\n",
      "Total nSV = 446\n",
      "..*.*\n",
      "optimization finished, #iter = 2603\n",
      "obj = -1384.150337, rho = -0.752579\n",
      "nSV = 451, nBSV = 90\n",
      "Total nSV = 451\n",
      "..*.*\n",
      "optimization finished, #iter = 2616\n",
      "obj = -1435.911705, rho = -0.913676\n",
      "nSV = 449, nBSV = 90\n",
      "Total nSV = 449\n",
      "..*.*\n",
      "optimization finished, #iter = 2484\n",
      "obj = -1411.219379, rho = -0.392351\n",
      "nSV = 448, nBSV = 91\n",
      "Total nSV = 448\n",
      "..*.*\n",
      "optimization finished, #iter = 2434\n",
      "obj = -1414.923404, rho = -0.377074\n",
      "nSV = 440, nBSV = 90\n",
      "Total nSV = 440\n",
      "..*.*\n",
      "optimization finished, #iter = 3083\n",
      "obj = -1820.415500, rho = 0.593315\n",
      "nSV = 543, nBSV = 123\n",
      "Total nSV = 543\n"
     ]
    }
   ],
   "source": [
    "make_model(male_data_combined,female_data_combined,get_hinge_with_cold,\"hinge_with_cold_combined\",True,70)"
   ]
  },
  {
   "cell_type": "code",
   "execution_count": null,
   "metadata": {},
   "outputs": [],
   "source": []
  },
  {
   "cell_type": "code",
   "execution_count": null,
   "metadata": {},
   "outputs": [],
   "source": []
  },
  {
   "cell_type": "code",
   "execution_count": 39,
   "metadata": {},
   "outputs": [
    {
     "name": "stdout",
     "output_type": "stream",
     "text": [
      "(100, 70)\n"
     ]
    }
   ],
   "source": [
    "loaded_model = pickle.load(open('hinge_with_cold', 'rb'))\n",
    "pca= pickle.load(open('hinge_with_cold_pca','rb'))\n",
    "\n",
    "troll=[]\n",
    "for i in range(100):\n",
    "    hinge=get_hinge_features(female_data[i])\n",
    "    cold=get_cold_features(female_data[i])\n",
    "    data=np.concatenate((hinge,cold))\n",
    "    troll.append(data)\n",
    "    \n",
    "troll=np.array(troll)\n",
    "troll=pca.transform(troll)\n",
    "print(troll.shape)\n",
    "y=loaded_model.predict(troll)\n",
    "\n"
   ]
  },
  {
   "cell_type": "code",
   "execution_count": 40,
   "metadata": {},
   "outputs": [
    {
     "name": "stdout",
     "output_type": "stream",
     "text": [
      "[0. 0. 0. 0. 0. 0. 0. 0. 0. 0. 0. 0. 0. 0. 0. 0. 0. 0. 0. 0. 0. 0. 0. 0.\n",
      " 0. 0. 0. 0. 0. 0. 0. 0. 0. 0. 0. 0. 0. 0. 0. 0. 0. 0. 0. 0. 0. 0. 0. 0.\n",
      " 0. 0. 0. 0. 0. 0. 0. 0. 0. 0. 0. 0. 0. 0. 0. 0. 0. 0. 0. 0. 0. 0. 0. 0.\n",
      " 0. 0. 0. 0. 0. 0. 0. 0. 0. 0. 0. 0. 0. 0. 0. 0. 0. 0. 0. 0. 0. 0. 0. 0.\n",
      " 0. 0. 0. 0.]\n"
     ]
    }
   ],
   "source": [
    "print(y)"
   ]
  },
  {
   "cell_type": "code",
   "execution_count": null,
   "metadata": {},
   "outputs": [],
   "source": []
  }
 ],
 "metadata": {
  "interpreter": {
   "hash": "916dbcbb3f70747c44a77c7bcd40155683ae19c65e1c03b4aa3499c5328201f1"
  },
  "kernelspec": {
   "display_name": "Python 3.8.10 64-bit",
   "language": "python",
   "name": "python3"
  },
  "language_info": {
   "codemirror_mode": {
    "name": "ipython",
    "version": 3
   },
   "file_extension": ".py",
   "mimetype": "text/x-python",
   "name": "python",
   "nbconvert_exporter": "python",
   "pygments_lexer": "ipython3",
   "version": "3.8.10"
  },
  "orig_nbformat": 4
 },
 "nbformat": 4,
 "nbformat_minor": 2
}
