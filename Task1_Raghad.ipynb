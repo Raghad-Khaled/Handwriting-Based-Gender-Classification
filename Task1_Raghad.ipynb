{
 "cells": [
  {
   "cell_type": "code",
   "execution_count": 245,
   "metadata": {},
   "outputs": [],
   "source": [
    "import cv2\n",
    "import numpy as np\n",
    "from matplotlib import pyplot as plt\n",
    "from skimage import feature, exposure\n",
    "from matplotlib.pyplot import bar\n",
    "from skimage.transform import resize\n",
    "#import imutils\n",
    "from PIL import Image, ImageEnhance"
   ]
  },
  {
   "cell_type": "code",
   "execution_count": 168,
   "metadata": {},
   "outputs": [],
   "source": [
    "#https://scikit-image.org/docs/dev/auto_examples/features_detection/plot_local_binary_pattern.html\n",
    "#https://cvexplained.wordpress.com/2020/07/22/10-7-local-binary-patterns/\n",
    "#numPoints=24, radius=8\n",
    "def LocalBinaryPatterns(image, eps=1e-7,numPoints=16, radius=2):\n",
    "    # compute the Local Binary Pattern representation\n",
    "        # of the image, and then use the LBP representation\n",
    "        # to build the histogram of patterns\n",
    "        #https://scikit-image.org/docs/dev/api/skimage.feature.html#local-binary-pattern\n",
    "        #'uniform', the result only includes patterns where all black dots are adjacent and all white dots are adjacent. All other combinations are labeled 'non-uniform'.\n",
    "        #Non-uniform results: If you look at your result more closely, there are actually 243 bins, not 242. The 243th bin lumps together all non-uniform results.\n",
    "        lbp = feature.local_binary_pattern(image, numPoints,radius, method='nri_uniform')\n",
    "        pinnum=lbp.ravel().max()\n",
    "        (hist, edges) = np.histogram(lbp.ravel(),bins=np.arange(0,pinnum))\n",
    "        # normalize the histogram\n",
    "        hist = hist.astype(\"float\")\n",
    "        hist /= (hist.sum() + eps)\n",
    "        # return the histogram of Local Binary Patterns\n",
    "        return hist,edges"
   ]
  },
  {
   "cell_type": "code",
   "execution_count": 169,
   "metadata": {},
   "outputs": [],
   "source": [
    "def showHist(hist,edges):\n",
    "    fig, ax = plt.subplots()\n",
    "    ax.bar(edges[:-1], hist, width=np.diff(edges), edgecolor=\"red\", align=\"edge\")\n",
    "    plt.show()"
   ]
  },
  {
   "cell_type": "code",
   "execution_count": 170,
   "metadata": {},
   "outputs": [
    {
     "data": {
      "image/png": "[encoded data removed]",
      "text/plain": [
       "<Figure size 432x288 with 1 Axes>"
      ]
     },
     "metadata": {
      "needs_background": "light"
     },
     "output_type": "display_data"
    }
   ],
   "source": [
    "imagePath='HR.JPG'\n",
    "image = cv2.imread(imagePath)\n",
    "gray = cv2.cvtColor(image, cv2.COLOR_BGR2GRAY)\n",
    "hist,edges = LocalBinaryPatterns(gray)\n",
    "showHist(hist,edges)"
   ]
  },
  {
   "cell_type": "code",
   "execution_count": 237,
   "metadata": {},
   "outputs": [],
   "source": [
    "#https://mulloverthings.com/how-do-you-extract-hog-features-in-python/\n",
    "def HistogramofOrientedGradients(image):\n",
    "    resized_img = resize(image, (128, 64))\n",
    "    print(resized_img.shape)\n",
    "    fd, hog_image = feature.hog(resized_img, orientations=9, pixels_per_cell=(8, 8),\n",
    "                    cells_per_block=(2, 2), visualize=True, multichannel=True)\n",
    "    #print(fd[:11].sum())\n",
    "    print(hog_image.shape)\n",
    "    #pinnum=fd.max()\n",
    "    #(hist, edges) = np.histogram(fd,bins=np.arange(0,pinnum))\n",
    "    # Rescale histogram for better display\n",
    "    plt.hist(fd,fd.shape[0],[0,1]);\n",
    "    plt.show()\n",
    "\n",
    "    plt.imshow(hog_image, cmap=\"gray\")"
   ]
  },
  {
   "cell_type": "code",
   "execution_count": 238,
   "metadata": {},
   "outputs": [
    {
     "name": "stdout",
     "output_type": "stream",
     "text": [
      "(128, 64, 3)\n",
      "1.0113167151465858\n"
     ]
    },
    {
     "data": {
      "image/png": "[encoded data removed]",
      "text/plain": [
       "<Figure size 432x288 with 1 Axes>"
      ]
     },
     "metadata": {
      "needs_background": "light"
     },
     "output_type": "display_data"
    },
    {
     "data": {
      "image/png": "[encoded data removed]",
      "text/plain": [
       "<Figure size 432x288 with 1 Axes>"
      ]
     },
     "metadata": {
      "needs_background": "light"
     },
     "output_type": "display_data"
    }
   ],
   "source": [
    "imagePath='HR.JPG'\n",
    "image = cv2.imread(imagePath)\n",
    "HistogramofOrientedGradients(image)"
   ]
  },
  {
   "cell_type": "code",
   "execution_count": 239,
   "metadata": {},
   "outputs": [],
   "source": [
    "N_RHO_BINS = 7\n",
    "N_ANGLE_BINS = 12\n",
    "N_BINS = N_RHO_BINS * N_ANGLE_BINS\n",
    "BIN_SIZE = 360 // N_ANGLE_BINS\n",
    "R_INNER = 5.0\n",
    "R_OUTER = 35.0\n",
    "K_S = np.arange(3, 8)"
   ]
  },
  {
   "cell_type": "code",
   "execution_count": 246,
   "metadata": {},
   "outputs": [],
   "source": [
    "def preprocess_image(img_file,show_images=True,sharpness_factor = 10, bordersize = 3,):\n",
    "        im = Image.open(img_file)\n",
    "        \n",
    "        enhancer = ImageEnhance.Sharpness(im)\n",
    "        im_s_1 = enhancer.enhance(sharpness_factor)\n",
    "        # plt.imshow(im_s_1, cmap='gray')\n",
    "        # double the size of the image\n",
    "        (width, height) = (im.width * 2, im.height * 2)\n",
    "        im_s_1 = im_s_1.resize((width, height))\n",
    "        \n",
    "        if show_images: plt.imshow(im_s_1, cmap='gray')\n",
    "        image = np.array(im_s_1)\n",
    "        image = cv2.copyMakeBorder(\n",
    "            image,\n",
    "            top=bordersize,\n",
    "            bottom=bordersize,\n",
    "            left=bordersize,\n",
    "            right=bordersize,\n",
    "            borderType=cv2.BORDER_CONSTANT,\n",
    "            value=[255, 255, 255]\n",
    "        )\n",
    "        orig_image = image.copy()\n",
    "        \n",
    "        image = cv2.cvtColor(image, cv2.COLOR_BGR2GRAY)\n",
    "        image = cv2.GaussianBlur(image,(3,3),0)\n",
    "        if show_images: plt.imshow(image, cmap='gray')\n",
    "        (thresh, bw_image) = cv2.threshold(image, 128, 255, cv2.THRESH_BINARY | cv2.THRESH_OTSU)\n",
    "        if show_images: plt.imshow(bw_image, cmap='gray')\n",
    "        return bw_image, orig_image"
   ]
  },
  {
   "cell_type": "code",
   "execution_count": 247,
   "metadata": {},
   "outputs": [],
   "source": [
    "def get_contour_pixels(bw_image,show_images=True):\n",
    "        contours, _= cv2.findContours(\n",
    "            bw_image, cv2.RETR_TREE, \n",
    "            cv2.CHAIN_APPROX_NONE\n",
    "            ) \n",
    "        # contours = imutils.grab_contours(contours)\n",
    "        contours = sorted(contours, key=cv2.contourArea, reverse=True)[1:]\n",
    "        \n",
    "        # newaxise to incease the dimantion\n",
    "        img2 = bw_image.copy()[:,:,np.newaxis]\n",
    "        img2 = np.concatenate([img2, img2, img2], axis = 2)\n",
    "        if show_images:\n",
    "            for cnt in contours : \n",
    "                cv2.drawContours(img2, [cnt], 0, (255, 0, 0), 1)  \n",
    "                \n",
    "            plt.imshow(img2, cmap='gray')\n",
    "        return contours"
   ]
  },
  {
   "cell_type": "code",
   "execution_count": 248,
   "metadata": {},
   "outputs": [],
   "source": [
    "def get_cold_features(img_file, approx_poly_factor = 0.01):\n",
    "        bw_image, _ = preprocess_image(img_file)\n",
    "        contours = get_contour_pixels(bw_image)\n",
    "        \n",
    "        rho_bins_edges = np.log10(np.linspace(R_INNER, R_OUTER, N_RHO_BINS))\n",
    "        feature_vectors = np.zeros((len(K_S), N_BINS))\n",
    "        \n",
    "        # print([len(cnt) for cnt in contours])\n",
    "        for j, k in enumerate(K_S):\n",
    "            hist = np.zeros((N_RHO_BINS, N_ANGLE_BINS))\n",
    "            for cnt in contours:\n",
    "                epsilon = approx_poly_factor * cv2.arcLength(cnt,True)\n",
    "                cnt = cv2.approxPolyDP(cnt,epsilon,True)\n",
    "                n_pixels = len(cnt)\n",
    "                \n",
    "                point_1s = np.array([point[0] for point in cnt])\n",
    "                x1s, y1s = point_1s[:, 0], point_1s[:, 1]\n",
    "                point_2s = np.array([cnt[(i + k) % n_pixels][0] for i in range(n_pixels)])\n",
    "                x2s, y2s = point_2s[:, 0], point_2s[:, 1]\n",
    "                \n",
    "                thetas = np.degrees(np.arctan2(y2s - y1s, x2s - x1s) + np.pi)\n",
    "                rhos = np.sqrt((y2s - y1s) ** 2 + (x2s - x1s) ** 2)\n",
    "                rhos_log_space = np.log10(rhos)\n",
    "                \n",
    "                quantized_rhos = np.zeros(rhos.shape, dtype=int)\n",
    "                for i in range(N_RHO_BINS):\n",
    "                    quantized_rhos += (rhos_log_space < rho_bins_edges[i])\n",
    "                    \n",
    "                for i, r_bin in enumerate(quantized_rhos):\n",
    "                    theta_bin = int(thetas[i] // BIN_SIZE) % N_ANGLE_BINS\n",
    "                    hist[r_bin - 1, theta_bin] += 1\n",
    "                \n",
    "            normalised_hist = hist / hist.sum()\n",
    "            feature_vectors[j] = normalised_hist.flatten()\n",
    "            \n",
    "        return feature_vectors.flatten()"
   ]
  },
  {
   "cell_type": "code",
   "execution_count": 251,
   "metadata": {},
   "outputs": [
    {
     "name": "stderr",
     "output_type": "stream",
     "text": [
      "C:\\Users\\Raghod\\Anaconda3\\lib\\site-packages\\ipykernel_launcher.py:23: RuntimeWarning: divide by zero encountered in log10\n"
     ]
    },
    {
     "name": "stdout",
     "output_type": "stream",
     "text": [
      "(420,)\n"
     ]
    },
    {
     "data": {
      "image/png": "[encoded data removed]",
      "text/plain": [
       "<Figure size 432x288 with 1 Axes>"
      ]
     },
     "metadata": {
      "needs_background": "light"
     },
     "output_type": "display_data"
    }
   ],
   "source": [
    "imagePath='HR.JPG'\n",
    "features=get_cold_features(imagePath)\n",
    "print(features.shape)"
   ]
  },
  {
   "cell_type": "code",
   "execution_count": null,
   "metadata": {},
   "outputs": [],
   "source": [
    "import imutils\n",
    "from PIL import Image, ImageEnhance\n",
    "import cv2\n",
    "import matplotlib.pyplot as plt\n",
    "import numpy as np\n",
    "\n",
    "N_RHO_BINS = 7\n",
    "N_ANGLE_BINS = 12\n",
    "N_BINS = N_RHO_BINS * N_ANGLE_BINS\n",
    "BIN_SIZE = 360 // N_ANGLE_BINS\n",
    "R_INNER = 5.0\n",
    "R_OUTER = 35.0\n",
    "K_S = np.arange(3, 8)\n",
    "\n",
    "class Cold():\n",
    "    def __init__(self, opt):\n",
    "        self.sharpness_factor = opt.sharpness_factor\n",
    "        self.bordersize = opt.bordersize\n",
    "        self.show_images = opt.show_images\n",
    "        self.is_binary = opt.is_binary\n",
    "        \n",
    "    def preprocess_binary_image(self, img_file, sharpness_factor = 10, bordersize = 3):\n",
    "        im = Image.open(img_file)\n",
    "        \n",
    "        #An enhancement factor of 0.0 gives a blurred image, a factor of 1.0 gives the original image, and a factor of 2.0 gives a sharpened image.\n",
    "        enhancer = ImageEnhance.Sharpness(im)\n",
    "        im_s_1 = enhancer.enhance(sharpness_factor)\n",
    "        # plt.imshow(im_s_1, cmap='gray')\n",
    "        # black->white & white ->black\n",
    "        image = 255 - np.array(im_s_1)\n",
    "        \n",
    "        #add white border around the image\n",
    "        bw_image = cv2.copyMakeBorder(\n",
    "            image,\n",
    "            top=bordersize,\n",
    "            bottom=bordersize,\n",
    "            left=bordersize,\n",
    "            right=bordersize,\n",
    "            borderType=cv2.BORDER_CONSTANT,\n",
    "            value=[255]\n",
    "        )\n",
    "        return bw_image, image\n",
    "    \n",
    "    def preprocess_image(self, img_file, sharpness_factor = 10, bordersize = 3):\n",
    "        im = Image.open(img_file)\n",
    "        \n",
    "        enhancer = ImageEnhance.Sharpness(im)\n",
    "        im_s_1 = enhancer.enhance(sharpness_factor)\n",
    "        # plt.imshow(im_s_1, cmap='gray')\n",
    "        # double the size of the image\n",
    "        (width, height) = (im.width * 2, im.height * 2)\n",
    "        im_s_1 = im_s_1.resize((width, height))\n",
    "        \n",
    "        if self.show_images: plt.imshow(im_s_1, cmap='gray')\n",
    "        image = np.array(im_s_1)\n",
    "        image = cv2.copyMakeBorder(\n",
    "            image,\n",
    "            top=bordersize,\n",
    "            bottom=bordersize,\n",
    "            left=bordersize,\n",
    "            right=bordersize,\n",
    "            borderType=cv2.BORDER_CONSTANT,\n",
    "            value=[255, 255, 255]\n",
    "        )\n",
    "        orig_image = image.copy()\n",
    "        \n",
    "        image = cv2.cvtColor(image, cv2.COLOR_BGR2GRAY)\n",
    "        image = cv2.GaussianBlur(image,(3,3),0)\n",
    "        if self.show_images: plt.imshow(image, cmap='gray')\n",
    "        (thresh, bw_image) = cv2.threshold(image, 128, 255, cv2.THRESH_BINARY | cv2.THRESH_OTSU)\n",
    "        if self.show_images: plt.imshow(bw_image, cmap='gray')\n",
    "        return bw_image, orig_image\n",
    "\n",
    "    def get_contour_pixels(self, bw_image):\n",
    "        contours, _= cv2.findContours(\n",
    "            bw_image, cv2.RETR_TREE, \n",
    "            cv2.CHAIN_APPROX_NONE\n",
    "            ) \n",
    "        # contours = imutils.grab_contours(contours)\n",
    "        contours = sorted(contours, key=cv2.contourArea, reverse=True)[1:]\n",
    "        \n",
    "        # newaxise to incease the dimantion\n",
    "        img2 = bw_image.copy()[:,:,np.newaxis]\n",
    "        img2 = np.concatenate([img2, img2, img2], axis = 2)\n",
    "        if self.show_images:\n",
    "            for cnt in contours : \n",
    "                cv2.drawContours(img2, [cnt], 0, (255, 0, 0), 1)  \n",
    "                \n",
    "            plt.imshow(img2, cmap='gray')\n",
    "        return contours\n",
    "    \n",
    "    def get_cold_features(self, img_file, approx_poly_factor = 0.01):\n",
    "        if self.is_binary:\n",
    "            bw_image, _ = self.preprocess_binary_image(img_file, self.sharpness_factor, self.bordersize)\n",
    "        else:\n",
    "            bw_image, _ = self.preprocess_image(img_file, self.sharpness_factor, self.bordersize)\n",
    "        contours = self.get_contour_pixels(bw_image)\n",
    "        \n",
    "        rho_bins_edges = np.log10(np.linspace(R_INNER, R_OUTER, N_RHO_BINS))\n",
    "        feature_vectors = np.zeros((len(K_S), N_BINS))\n",
    "        \n",
    "        # print([len(cnt) for cnt in contours])\n",
    "        for j, k in enumerate(K_S):\n",
    "            hist = np.zeros((N_RHO_BINS, N_ANGLE_BINS))\n",
    "            for cnt in contours:\n",
    "                epsilon = approx_poly_factor * cv2.arcLength(cnt,True)\n",
    "                cnt = cv2.approxPolyDP(cnt,epsilon,True)\n",
    "                n_pixels = len(cnt)\n",
    "                \n",
    "                point_1s = np.array([point[0] for point in cnt])\n",
    "                x1s, y1s = point_1s[:, 0], point_1s[:, 1]\n",
    "                point_2s = np.array([cnt[(i + k) % n_pixels][0] for i in range(n_pixels)])\n",
    "                x2s, y2s = point_2s[:, 0], point_2s[:, 1]\n",
    "                \n",
    "                thetas = np.degrees(np.arctan2(y2s - y1s, x2s - x1s) + np.pi)\n",
    "                rhos = np.sqrt((y2s - y1s) ** 2 + (x2s - x1s) ** 2)\n",
    "                rhos_log_space = np.log10(rhos)\n",
    "                \n",
    "                quantized_rhos = np.zeros(rhos.shape, dtype=int)\n",
    "                for i in range(N_RHO_BINS):\n",
    "                    quantized_rhos += (rhos_log_space < rho_bins_edges[i])\n",
    "                    \n",
    "                for i, r_bin in enumerate(quantized_rhos):\n",
    "                    theta_bin = int(thetas[i] // BIN_SIZE) % N_ANGLE_BINS\n",
    "                    hist[r_bin - 1, theta_bin] += 1\n",
    "                \n",
    "            normalised_hist = hist / hist.sum()\n",
    "            feature_vectors[j] = normalised_hist.flatten()\n",
    "            \n",
    "        return feature_vectors.flatten()\n",
    "\n",
    "\n",
    "if __name__ == '__name__':\n",
    "    import argparse\n",
    "    parser = argparse.ArgumentParser(description=\"\")\n",
    "    parser.add_argument(\"--img_file\", type=str, default=r\"IMAGE FILE LOCATION\")\n",
    "    parser.add_argument(\"--sharpness_factor\", type=int, default=10)\n",
    "    parser.add_argument(\"--bordersize\", type=int, default=3)\n",
    "    parser.add_argument(\"--show_images\", type=bool, default=False)\n",
    "    parser.add_argument(\"--is_binary\", type=bool, default=False)\n",
    "    opt = parser.parse_args()\n",
    "    \n",
    "    cold = Cold(opt)\n",
    "    feature_vectors = cold.get_cold_features(opt.img_file)\n",
    "    \n",
    "    print (\"shape of feature vector: {}\".format(feature_vectors.shape))"
   ]
  },
  {
   "cell_type": "code",
   "execution_count": null,
   "metadata": {},
   "outputs": [],
   "source": []
  }
 ],
 "metadata": {
  "kernelspec": {
   "display_name": "Python 3",
   "language": "python",
   "name": "python3"
  },
  "language_info": {
   "codemirror_mode": {
    "name": "ipython",
    "version": 3
   },
   "file_extension": ".py",
   "mimetype": "text/x-python",
   "name": "python",
   "nbconvert_exporter": "python",
   "pygments_lexer": "ipython3",
   "version": "3.8.8"
  }
 },
 "nbformat": 4,
 "nbformat_minor": 2
}
