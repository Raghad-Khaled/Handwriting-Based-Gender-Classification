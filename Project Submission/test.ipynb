{
 "cells": [
  {
   "cell_type": "code",
   "execution_count": 10,
   "metadata": {},
   "outputs": [
    {
     "name": "stdout",
     "output_type": "stream",
     "text": [
      "please input full test file directory\n",
      "please input full output file directory\n",
      "nada\n",
      "nada\n",
      "nada\n",
      "nada\n",
      "nada\n",
      "nada\n"
     ]
    }
   ],
   "source": [
    "import time \n",
    "import cv2\n",
    "import os\n",
    "\n",
    "# input files directories\n",
    "print(\"please input full test file directory\")\n",
    "TEST_DIRECTORY = input()\n",
    "\n",
    "print(\"please input full output file directory\")\n",
    "OUTPUT_DIRECTORY = input()\n",
    "\n",
    "predicted_class = []\n",
    "time_list = []\n",
    "\n",
    "# read images \n",
    "for filename in os.listdir(TEST_DIRECTORY):\n",
    "    image = cv2.imread(os.path.join(TEST_DIRECTORY,filename), 0)\n",
    "    if image is not None:\n",
    "        start_time = time.time()\n",
    "\n",
    "        k=10\n",
    "        wshape=(100*k,142*k)\n",
    "\n",
    "        image=cv2.resize(image,wshape)\n",
    "        image = cv2.GaussianBlur(image,(3,3),cv2.BORDER_DEFAULT)\n",
    "\n",
    "        image = cv2.adaptiveThreshold(image,255,cv2.ADAPTIVE_THRESH_GAUSSIAN_C,\\\n",
    "                cv2.THRESH_BINARY,11,2) # making the image binary\n",
    "        image = cv2.medianBlur(image, 5)\n",
    "        image = cv2.medianBlur(image, 5)\n",
    "        image = cv2.erode(image, None, iterations = 1)\n",
    "\n",
    "        # predicted_class.append() # here call preprocessing function and the model\n",
    "        end_time = time.time() - start_time\n",
    "        if(end_time < .001):\n",
    "            time_list.append(.001)\n",
    "        else:\n",
    "            time_list.append(end_time)\n",
    "\n",
    "\n",
    "result_file = open(OUTPUT_DIRECTORY + '/results.txt', 'w')\n",
    "time_file = open(OUTPUT_DIRECTORY + '/times.txt', 'w')\n",
    "for i in range(len(time_list)):\n",
    "    result_file.write(predicted_class[i] + '\\n')\n",
    "    time_file.write(time[i] + '\\n')\n",
    "    "
   ]
  },
  {
   "cell_type": "code",
   "execution_count": 12,
   "metadata": {},
   "outputs": [
    {
     "data": {
      "text/plain": [
       "[0.001, 0.001, 0.001, 0.001, 0.001, 0.001]"
      ]
     },
     "execution_count": 12,
     "metadata": {},
     "output_type": "execute_result"
    }
   ],
   "source": [
    "time_list"
   ]
  },
  {
   "cell_type": "code",
   "execution_count": null,
   "metadata": {},
   "outputs": [],
   "source": []
  }
 ],
 "metadata": {
  "interpreter": {
   "hash": "16eaf64d804c64982ecaa3d552fe6459f2afbedbd70923f4efe6f78d1fdb2db7"
  },
  "kernelspec": {
   "display_name": "Python 3.7.4 ('base')",
   "language": "python",
   "name": "python3"
  },
  "language_info": {
   "codemirror_mode": {
    "name": "ipython",
    "version": 3
   },
   "file_extension": ".py",
   "mimetype": "text/x-python",
   "name": "python",
   "nbconvert_exporter": "python",
   "pygments_lexer": "ipython3",
   "version": "3.7.4"
  },
  "orig_nbformat": 4
 },
 "nbformat": 4,
 "nbformat_minor": 2
}
