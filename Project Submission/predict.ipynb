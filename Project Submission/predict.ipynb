{
 "cells": [
  {
   "cell_type": "code",
   "execution_count": 2,
   "metadata": {},
   "outputs": [
    {
     "ename": "FileNotFoundError",
     "evalue": "[Errno 2] No such file or directory: 'D:/CMP/sixth term/Neural/Handwriting-Based-Gender-Classification/Project Submission\\\\_test'",
     "output_type": "error",
     "traceback": [
      "\u001b[0;31m---------------------------------------------------------------------------\u001b[0m",
      "\u001b[0;31mFileNotFoundError\u001b[0m                         Traceback (most recent call last)",
      "\u001b[0;32m/tmp/ipykernel_27512/1376833497.py\u001b[0m in \u001b[0;36m<module>\u001b[0;34m\u001b[0m\n\u001b[1;32m     18\u001b[0m \u001b[0;34m\u001b[0m\u001b[0m\n\u001b[1;32m     19\u001b[0m \u001b[0;31m# read images\u001b[0m\u001b[0;34m\u001b[0m\u001b[0;34m\u001b[0m\u001b[0;34m\u001b[0m\u001b[0m\n\u001b[0;32m---> 20\u001b[0;31m \u001b[0;32mfor\u001b[0m \u001b[0mfilename\u001b[0m \u001b[0;32min\u001b[0m \u001b[0mos\u001b[0m\u001b[0;34m.\u001b[0m\u001b[0mlistdir\u001b[0m\u001b[0;34m(\u001b[0m\u001b[0mTEST_DIRECTORY\u001b[0m\u001b[0;34m)\u001b[0m\u001b[0;34m:\u001b[0m\u001b[0;34m\u001b[0m\u001b[0;34m\u001b[0m\u001b[0m\n\u001b[0m\u001b[1;32m     21\u001b[0m     \u001b[0mimage\u001b[0m \u001b[0;34m=\u001b[0m \u001b[0mcv2\u001b[0m\u001b[0;34m.\u001b[0m\u001b[0mimread\u001b[0m\u001b[0;34m(\u001b[0m\u001b[0mos\u001b[0m\u001b[0;34m.\u001b[0m\u001b[0mpath\u001b[0m\u001b[0;34m.\u001b[0m\u001b[0mjoin\u001b[0m\u001b[0;34m(\u001b[0m\u001b[0mTEST_DIRECTORY\u001b[0m\u001b[0;34m,\u001b[0m\u001b[0mfilename\u001b[0m\u001b[0;34m)\u001b[0m\u001b[0;34m,\u001b[0m \u001b[0;36m0\u001b[0m\u001b[0;34m)\u001b[0m\u001b[0;34m\u001b[0m\u001b[0;34m\u001b[0m\u001b[0m\n\u001b[1;32m     22\u001b[0m     \u001b[0;32mif\u001b[0m \u001b[0mimage\u001b[0m \u001b[0;32mis\u001b[0m \u001b[0;32mnot\u001b[0m \u001b[0;32mNone\u001b[0m\u001b[0;34m:\u001b[0m\u001b[0;34m\u001b[0m\u001b[0;34m\u001b[0m\u001b[0m\n",
      "\u001b[0;31mFileNotFoundError\u001b[0m: [Errno 2] No such file or directory: 'D:/CMP/sixth term/Neural/Handwriting-Based-Gender-Classification/Project Submission\\\\_test'"
     ]
    }
   ],
   "source": [
    "import time \n",
    "import cv2\n",
    "import os\n",
    "\"\"\"\n",
    "to install it on conda => https://anaconda.org/conda-forge/python-dotenv\n",
    "\"\"\"\n",
    "from dotenv import load_dotenv\n",
    "\n",
    "load_dotenv()\n",
    "\n",
    "# input files directories\n",
    "TEST_DIRECTORY = os.environ.get(\"TEST_DIRECTORY\")\n",
    "\n",
    "OUTPUT_DIRECTORY = os.environ.get(\"OUTPUT_DIRECTORY\") \n",
    "\n",
    "predicted_class = []\n",
    "time_list = []\n",
    "\n",
    "# read images \n",
    "for filename in os.listdir(TEST_DIRECTORY):\n",
    "    image = cv2.imread(os.path.join(TEST_DIRECTORY,filename), 0)\n",
    "    if image is not None:\n",
    "        start_time = time.time()\n",
    "\n",
    "        k=10\n",
    "        wshape=(100*k,142*k)\n",
    "\n",
    "        image=cv2.resize(image,wshape)\n",
    "        image = cv2.GaussianBlur(image,(3,3),cv2.BORDER_DEFAULT)\n",
    "\n",
    "        image = cv2.adaptiveThreshold(image,255,cv2.ADAPTIVE_THRESH_GAUSSIAN_C,\\\n",
    "                cv2.THRESH_BINARY,11,2) # making the image binary\n",
    "        image = cv2.medianBlur(image, 5)\n",
    "        image = cv2.medianBlur(image, 5)\n",
    "        image = cv2.erode(image, None, iterations = 1)\n",
    "\n",
    "        # predicted_class.append() # here call preprocessing function and the model\n",
    "        end_time = time.time() - start_time\n",
    "        if(end_time < .001):\n",
    "            time_list.append(.001)\n",
    "        else:\n",
    "            time_list.append(end_time)\n",
    "\n",
    "\n",
    "result_file = open(OUTPUT_DIRECTORY + '/results.txt', 'w')\n",
    "time_file = open(OUTPUT_DIRECTORY + '/times.txt', 'w')\n",
    "for i in range(len(time_list)):\n",
    "    result_file.write(predicted_class[i] + '\\n')\n",
    "    time_file.write(time[i] + '\\n')"
   ]
  },
  {
   "cell_type": "code",
   "execution_count": null,
   "metadata": {},
   "outputs": [],
   "source": []
  }
 ],
 "metadata": {
  "interpreter": {
   "hash": "16eaf64d804c64982ecaa3d552fe6459f2afbedbd70923f4efe6f78d1fdb2db7"
  },
  "kernelspec": {
   "display_name": "Python 3.7.4 ('base')",
   "language": "python",
   "name": "python3"
  },
  "language_info": {
   "codemirror_mode": {
    "name": "ipython",
    "version": 3
   },
   "file_extension": ".py",
   "mimetype": "text/x-python",
   "name": "python",
   "nbconvert_exporter": "python",
   "pygments_lexer": "ipython3",
   "version": "3.8.10"
  },
  "orig_nbformat": 4
 },
 "nbformat": 4,
 "nbformat_minor": 2
}
