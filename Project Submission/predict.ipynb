{
 "cells": [
  {
   "cell_type": "code",
   "execution_count": 1,
   "metadata": {},
   "outputs": [
    {
     "ename": "IndexError",
     "evalue": "list index out of range",
     "output_type": "error",
     "traceback": [
      "\u001b[1;31m---------------------------------------------------------------------------\u001b[0m",
      "\u001b[1;31mIndexError\u001b[0m                                Traceback (most recent call last)",
      "\u001b[1;32m<ipython-input-1-4f80b3b8a856>\u001b[0m in \u001b[0;36m<module>\u001b[1;34m\u001b[0m\n\u001b[0;32m     46\u001b[0m \u001b[0mtime_file\u001b[0m \u001b[1;33m=\u001b[0m \u001b[0mopen\u001b[0m\u001b[1;33m(\u001b[0m\u001b[0mOUTPUT_DIRECTORY\u001b[0m \u001b[1;33m+\u001b[0m \u001b[1;34m'/times.txt'\u001b[0m\u001b[1;33m,\u001b[0m \u001b[1;34m'w'\u001b[0m\u001b[1;33m)\u001b[0m\u001b[1;33m\u001b[0m\u001b[1;33m\u001b[0m\u001b[0m\n\u001b[0;32m     47\u001b[0m \u001b[1;32mfor\u001b[0m \u001b[0mi\u001b[0m \u001b[1;32min\u001b[0m \u001b[0mrange\u001b[0m\u001b[1;33m(\u001b[0m\u001b[0mlen\u001b[0m\u001b[1;33m(\u001b[0m\u001b[0mtime_list\u001b[0m\u001b[1;33m)\u001b[0m\u001b[1;33m)\u001b[0m\u001b[1;33m:\u001b[0m\u001b[1;33m\u001b[0m\u001b[1;33m\u001b[0m\u001b[0m\n\u001b[1;32m---> 48\u001b[1;33m     \u001b[0mresult_file\u001b[0m\u001b[1;33m.\u001b[0m\u001b[0mwrite\u001b[0m\u001b[1;33m(\u001b[0m\u001b[0mpredicted_class\u001b[0m\u001b[1;33m[\u001b[0m\u001b[0mi\u001b[0m\u001b[1;33m]\u001b[0m \u001b[1;33m+\u001b[0m \u001b[1;34m'\\n'\u001b[0m\u001b[1;33m)\u001b[0m\u001b[1;33m\u001b[0m\u001b[1;33m\u001b[0m\u001b[0m\n\u001b[0m\u001b[0;32m     49\u001b[0m     \u001b[0mtime_file\u001b[0m\u001b[1;33m.\u001b[0m\u001b[0mwrite\u001b[0m\u001b[1;33m(\u001b[0m\u001b[0mtime\u001b[0m\u001b[1;33m[\u001b[0m\u001b[0mi\u001b[0m\u001b[1;33m]\u001b[0m \u001b[1;33m+\u001b[0m \u001b[1;34m'\\n'\u001b[0m\u001b[1;33m)\u001b[0m\u001b[1;33m\u001b[0m\u001b[1;33m\u001b[0m\u001b[0m\n",
      "\u001b[1;31mIndexError\u001b[0m: list index out of range"
     ]
    }
   ],
   "source": [
    "import time \n",
    "import cv2\n",
    "import os\n",
    "\"\"\"\n",
    "to install it on conda => https://anaconda.org/conda-forge/python-dotenv\n",
    "\"\"\"\n",
    "from dotenv import load_dotenv\n",
    "\n",
    "load_dotenv()\n",
    "\n",
    "# input files directories\n",
    "TEST_DIRECTORY = os.environ.get(\"TEST_DIRECTORY\")\n",
    "\n",
    "OUTPUT_DIRECTORY = os.environ.get(\"OUTPUT_DIRECTORY\") \n",
    "\n",
    "predicted_class = []\n",
    "time_list = []\n",
    "\n",
    "# read images \n",
    "for filename in os.listdir(TEST_DIRECTORY):\n",
    "    image = cv2.imread(os.path.join(TEST_DIRECTORY,filename), 0)\n",
    "    if image is not None:\n",
    "        start_time = time.time()\n",
    "\n",
    "        k=10\n",
    "        wshape=(100*k,142*k)\n",
    "\n",
    "        image=cv2.resize(image,wshape)\n",
    "        image = cv2.GaussianBlur(image,(3,3),cv2.BORDER_DEFAULT)\n",
    "\n",
    "        image = cv2.adaptiveThreshold(image,255,cv2.ADAPTIVE_THRESH_GAUSSIAN_C,\\\n",
    "                cv2.THRESH_BINARY,11,2) # making the image binary\n",
    "        image = cv2.medianBlur(image, 5)\n",
    "        image = cv2.medianBlur(image, 5)\n",
    "        image = cv2.erode(image, None, iterations = 1)\n",
    "\n",
    "        # predicted_class.append() # here call preprocessing function and the model\n",
    "        end_time = time.time() - start_time\n",
    "        if(end_time < .001):\n",
    "            time_list.append(.001)\n",
    "        else:\n",
    "            time_list.append(end_time)\n",
    "\n",
    "\n",
    "result_file = open(OUTPUT_DIRECTORY + '/results.txt', 'w')\n",
    "time_file = open(OUTPUT_DIRECTORY + '/times.txt', 'w')\n",
    "for i in range(len(time_list)):\n",
    "    result_file.write(predicted_class[i] + '\\n')\n",
    "    time_file.write(time[i] + '\\n')"
   ]
  }
 ],
 "metadata": {
  "interpreter": {
   "hash": "16eaf64d804c64982ecaa3d552fe6459f2afbedbd70923f4efe6f78d1fdb2db7"
  },
  "kernelspec": {
   "display_name": "Python 3.7.4 ('base')",
   "language": "python",
   "name": "python3"
  },
  "language_info": {
   "codemirror_mode": {
    "name": "ipython",
    "version": 3
   },
   "file_extension": ".py",
   "mimetype": "text/x-python",
   "name": "python",
   "nbconvert_exporter": "python",
   "pygments_lexer": "ipython3",
   "version": "3.7.4"
  },
  "orig_nbformat": 4
 },
 "nbformat": 4,
 "nbformat_minor": 2
}
